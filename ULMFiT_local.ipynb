{
  "nbformat": 4,
  "nbformat_minor": 0,
  "metadata": {
    "colab": {
      "name": "ULMFiT_local.ipynb",
      "provenance": [],
      "collapsed_sections": []
    },
    "kernelspec": {
      "name": "python3",
      "display_name": "Python 3"
    },
    "accelerator": "GPU"
  },
  "cells": [
    {
      "cell_type": "markdown",
      "metadata": {
        "id": "4FdLQZI2Jn_T",
        "colab_type": "text"
      },
      "source": [
        "##Preprocessing the Data"
      ]
    },
    {
      "cell_type": "code",
      "metadata": {
        "id": "Cd01I-E0MZn2",
        "colab_type": "code",
        "colab": {}
      },
      "source": [
        "import fastai\n",
        "from fastai.text import *"
      ],
      "execution_count": 0,
      "outputs": []
    },
    {
      "cell_type": "code",
      "metadata": {
        "id": "pOFHwINUMfKi",
        "colab_type": "code",
        "colab": {}
      },
      "source": [
        "folder = '.'\n",
        "url = 'https://raw.githubusercontent.com/micklwl/cs3244/master/dataset.csv'\n",
        "train = pd.read_csv(url, sep =',')"
      ],
      "execution_count": 0,
      "outputs": []
    },
    {
      "cell_type": "code",
      "metadata": {
        "id": "hK1AnETMMlfs",
        "colab_type": "code",
        "outputId": "6a3d2012-6853-4337-e3ee-10bfefebf24b",
        "colab": {
          "base_uri": "https://localhost:8080/",
          "height": 55
        }
      },
      "source": [
        "from google.colab import drive\n",
        "drive.mount('/content/gdrive')"
      ],
      "execution_count": 0,
      "outputs": [
        {
          "output_type": "stream",
          "text": [
            "Drive already mounted at /content/gdrive; to attempt to forcibly remount, call drive.mount(\"/content/gdrive\", force_remount=True).\n"
          ],
          "name": "stdout"
        }
      ]
    },
    {
      "cell_type": "code",
      "metadata": {
        "id": "jvzeMGW6Ohjw",
        "colab_type": "code",
        "colab": {}
      },
      "source": [
        "train[['Insult', 'Comment']].to_csv('train_final.csv', index=None, header=True)"
      ],
      "execution_count": 0,
      "outputs": []
    },
    {
      "cell_type": "code",
      "metadata": {
        "id": "gNkMJDeCUlb0",
        "colab_type": "code",
        "colab": {}
      },
      "source": [
        "test = pd.read_csv('../content/gdrive/My Drive/CS3244 Project/Local Data - Sheet1.csv')"
      ],
      "execution_count": 0,
      "outputs": []
    },
    {
      "cell_type": "code",
      "metadata": {
        "id": "QVIW7AwTUfLe",
        "colab_type": "code",
        "colab": {}
      },
      "source": [
        "#Convert contractions\n",
        "def preprocess(dataset):\n",
        "  dataset[\"Comment\"] = dataset[\"Comment\"].str.replace(\"can't\",\"can not\")\n",
        "  dataset[\"Comment\"] = dataset[\"Comment\"].str.replace(\"you're\",\"you are\")\n",
        "  dataset[\"Comment\"] = dataset[\"Comment\"].str.replace(\"don't\",\"do not\")\n",
        "  dataset[\"Comment\"] = dataset[\"Comment\"].str.replace(\"i'm\",\"i am\")\n",
        "\n",
        "  return dataset"
      ],
      "execution_count": 0,
      "outputs": []
    },
    {
      "cell_type": "code",
      "metadata": {
        "id": "2VXMl2cTUfux",
        "colab_type": "code",
        "outputId": "97c694bd-a2c6-4460-b0e1-cdb5a447027e",
        "colab": {
          "base_uri": "https://localhost:8080/",
          "height": 415
        }
      },
      "source": [
        "preprocess(test)"
      ],
      "execution_count": 0,
      "outputs": [
        {
          "output_type": "execute_result",
          "data": {
            "text/html": [
              "<div>\n",
              "<style scoped>\n",
              "    .dataframe tbody tr th:only-of-type {\n",
              "        vertical-align: middle;\n",
              "    }\n",
              "\n",
              "    .dataframe tbody tr th {\n",
              "        vertical-align: top;\n",
              "    }\n",
              "\n",
              "    .dataframe thead th {\n",
              "        text-align: right;\n",
              "    }\n",
              "</style>\n",
              "<table border=\"1\" class=\"dataframe\">\n",
              "  <thead>\n",
              "    <tr style=\"text-align: right;\">\n",
              "      <th></th>\n",
              "      <th>Insult</th>\n",
              "      <th>Comment</th>\n",
              "    </tr>\n",
              "  </thead>\n",
              "  <tbody>\n",
              "    <tr>\n",
              "      <th>0</th>\n",
              "      <td>0</td>\n",
              "      <td>Sad truth is there are more hot girls than suc...</td>\n",
              "    </tr>\n",
              "    <tr>\n",
              "      <th>1</th>\n",
              "      <td>1</td>\n",
              "      <td>To the author, you should just contract covid ...</td>\n",
              "    </tr>\n",
              "    <tr>\n",
              "      <th>2</th>\n",
              "      <td>0</td>\n",
              "      <td>Aiyo it's just diff cultures la..china men are...</td>\n",
              "    </tr>\n",
              "    <tr>\n",
              "      <th>3</th>\n",
              "      <td>0</td>\n",
              "      <td>Korean oppa seem to cry alot too. Maybe he tho...</td>\n",
              "    </tr>\n",
              "    <tr>\n",
              "      <th>4</th>\n",
              "      <td>0</td>\n",
              "      <td>Guess all the mid range height population are ...</td>\n",
              "    </tr>\n",
              "    <tr>\n",
              "      <th>...</th>\n",
              "      <td>...</td>\n",
              "      <td>...</td>\n",
              "    </tr>\n",
              "    <tr>\n",
              "      <th>295</th>\n",
              "      <td>0</td>\n",
              "      <td>Yes. You will need to wear a mask.</td>\n",
              "    </tr>\n",
              "    <tr>\n",
              "      <th>296</th>\n",
              "      <td>1</td>\n",
              "      <td>Kbkb, erection still retain power. You guys re...</td>\n",
              "    </tr>\n",
              "    <tr>\n",
              "      <th>297</th>\n",
              "      <td>1</td>\n",
              "      <td>TS do not need brain if not using right?</td>\n",
              "    </tr>\n",
              "    <tr>\n",
              "      <th>298</th>\n",
              "      <td>1</td>\n",
              "      <td>Circuit breaker really accelerate their mental...</td>\n",
              "    </tr>\n",
              "    <tr>\n",
              "      <th>299</th>\n",
              "      <td>0</td>\n",
              "      <td>The circuit breaker is just copying what New Z...</td>\n",
              "    </tr>\n",
              "  </tbody>\n",
              "</table>\n",
              "<p>300 rows × 2 columns</p>\n",
              "</div>"
            ],
            "text/plain": [
              "     Insult                                            Comment\n",
              "0         0  Sad truth is there are more hot girls than suc...\n",
              "1         1  To the author, you should just contract covid ...\n",
              "2         0  Aiyo it's just diff cultures la..china men are...\n",
              "3         0  Korean oppa seem to cry alot too. Maybe he tho...\n",
              "4         0  Guess all the mid range height population are ...\n",
              "..      ...                                                ...\n",
              "295       0                 Yes. You will need to wear a mask.\n",
              "296       1  Kbkb, erection still retain power. You guys re...\n",
              "297       1           TS do not need brain if not using right?\n",
              "298       1  Circuit breaker really accelerate their mental...\n",
              "299       0  The circuit breaker is just copying what New Z...\n",
              "\n",
              "[300 rows x 2 columns]"
            ]
          },
          "metadata": {
            "tags": []
          },
          "execution_count": 7
        }
      ]
    },
    {
      "cell_type": "code",
      "metadata": {
        "id": "qMgEL5LZUppc",
        "colab_type": "code",
        "colab": {}
      },
      "source": [
        "test[['Insult','Comment']].to_csv('test.csv', index=None, header=True)"
      ],
      "execution_count": 0,
      "outputs": []
    },
    {
      "cell_type": "code",
      "metadata": {
        "id": "fVB_BLG5Mmx9",
        "colab_type": "code",
        "colab": {}
      },
      "source": [
        "# Local Data\n",
        "test_file = 'test.csv'"
      ],
      "execution_count": 0,
      "outputs": []
    },
    {
      "cell_type": "code",
      "metadata": {
        "id": "rLn3xf6tMsAv",
        "colab_type": "code",
        "colab": {}
      },
      "source": [
        "# For the language model\n",
        "train['Comment'].to_csv('unlabeled_comments.csv', index=None, header=True)"
      ],
      "execution_count": 0,
      "outputs": []
    },
    {
      "cell_type": "code",
      "metadata": {
        "id": "ILWNOT2NMvJI",
        "colab_type": "code",
        "colab": {}
      },
      "source": [
        "folder = '.'\n",
        "unlabeled_file = 'unlabeled_comments.csv'"
      ],
      "execution_count": 0,
      "outputs": []
    },
    {
      "cell_type": "code",
      "metadata": {
        "id": "ZlWBsFAcNNR4",
        "colab_type": "code",
        "colab": {}
      },
      "source": [
        "bs,bptt=32,80"
      ],
      "execution_count": 0,
      "outputs": []
    },
    {
      "cell_type": "markdown",
      "metadata": {
        "id": "mDujypC2J2W1",
        "colab_type": "text"
      },
      "source": [
        "##Fine-tuning the Language Model"
      ]
    },
    {
      "cell_type": "code",
      "metadata": {
        "id": "lHxxjCgUMwbB",
        "colab_type": "code",
        "outputId": "67490e04-61fe-4cc0-c176-c41c82cea658",
        "colab": {
          "base_uri": "https://localhost:8080/",
          "height": 17
        }
      },
      "source": [
        "# Tokenize data for the language model\n",
        "data_lm = TextLMDataBunch.from_csv(folder, unlabeled_file, text_cols='Comment')"
      ],
      "execution_count": 0,
      "outputs": [
        {
          "output_type": "display_data",
          "data": {
            "text/html": [
              ""
            ],
            "text/plain": [
              "<IPython.core.display.HTML object>"
            ]
          },
          "metadata": {
            "tags": []
          }
        },
        {
          "output_type": "display_data",
          "data": {
            "text/html": [
              ""
            ],
            "text/plain": [
              "<IPython.core.display.HTML object>"
            ]
          },
          "metadata": {
            "tags": []
          }
        }
      ]
    },
    {
      "cell_type": "code",
      "metadata": {
        "id": "_lQt3afmNDvF",
        "colab_type": "code",
        "colab": {}
      },
      "source": [
        "# Saves the data, so that when the notebook is restarted, \n",
        "# we don't have to run data_lm again\n",
        "data_lm.save('data_lm.pkl')"
      ],
      "execution_count": 0,
      "outputs": []
    },
    {
      "cell_type": "code",
      "metadata": {
        "id": "xpTWmv3oNFlL",
        "colab_type": "code",
        "colab": {}
      },
      "source": [
        "# Loads data\n",
        "data_lm = load_data(folder, 'data_lm.pkl', bs=bs, bptt=bptt)"
      ],
      "execution_count": 0,
      "outputs": []
    },
    {
      "cell_type": "code",
      "metadata": {
        "id": "QGqgCubLNVdo",
        "colab_type": "code",
        "outputId": "f238d1e8-f78e-4d99-f120-b8d3b327f710",
        "colab": {
          "base_uri": "https://localhost:8080/",
          "height": 549
        }
      },
      "source": [
        "data_lm.show_batch()"
      ],
      "execution_count": 0,
      "outputs": [
        {
          "output_type": "display_data",
          "data": {
            "text/html": [
              "<table border=\"1\" class=\"dataframe\">\n",
              "  <thead>\n",
              "    <tr style=\"text-align: right;\">\n",
              "      <th>idx</th>\n",
              "      <th>text</th>\n",
              "    </tr>\n",
              "  </thead>\n",
              "  <tbody>\n",
              "    <tr>\n",
              "      <td>0</td>\n",
              "      <td>the premise of the article is not that jesus existed it is that a time and place existed that jesus was placed in 2005 6 nov 2004 utc xxbos multiple mainstreams for the authors preferred minority view and single mainstream for the authors personally disliked minority view shall we open another rfc and switch it around no that would be transparently disingenuous would nt it did the closer even read</td>\n",
              "    </tr>\n",
              "    <tr>\n",
              "      <td>1</td>\n",
              "      <td>though i am sure some of them do deserve their own pages already xxbos haha yea i think she was complaining about being fat because she is now 108 or something like that xxbos dubious i have a feeling that the examples destiny xxunk or xxunk master of illusions are inaccurate and may also spark a contradiction where it says the the pokemon movies are rated g while destiny xxunk</td>\n",
              "    </tr>\n",
              "    <tr>\n",
              "      <td>2</td>\n",
              "      <td>article with no content whatsoever or whose contents consist only of external links see also section book reference category tag template tag interwiki link rephrasing of the title or an attempt to contact the subject of the article please see wikipediastub for our minimum information standards for short articles also please note that articles must be on notable subjects and should provide references to reliable sources that verify their content</td>\n",
              "    </tr>\n",
              "    <tr>\n",
              "      <td>3</td>\n",
              "      <td>but better is very subjective and i am strictly speaking from an objective point of view ok just so were on the same page ill reword my argument as best i can for i am pretty tired so we can stop going in circles wikipedia is a database of information and as a database and also an encyclopedia there must be a standard setting language consolidation unification etc so that</td>\n",
              "    </tr>\n",
              "    <tr>\n",
              "      <td>4</td>\n",
              "      <td>can not fix it i have found errors in the page title name of author name of website and year why is it wrong to fix such things xxbos dmsg again the reference to the dmsg deutsche multiple xxunk xxunk is problematic its a primary source is it independent from what organizations form as patient organizations often but as they develop they find sources of funding often from drug companies</td>\n",
              "    </tr>\n",
              "  </tbody>\n",
              "</table>"
            ],
            "text/plain": [
              "<IPython.core.display.HTML object>"
            ]
          },
          "metadata": {
            "tags": []
          }
        }
      ]
    },
    {
      "cell_type": "code",
      "metadata": {
        "id": "mhrEbEC1Nf4n",
        "colab_type": "code",
        "colab": {}
      },
      "source": [
        "# Create the language model using the tokenized data\n",
        "learn = language_model_learner(data_lm, AWD_LSTM)"
      ],
      "execution_count": 0,
      "outputs": []
    },
    {
      "cell_type": "code",
      "metadata": {
        "id": "lThmvtUJNqAn",
        "colab_type": "code",
        "outputId": "2d76e1cf-c8db-4e2d-9f28-0055c47d5be7",
        "colab": {
          "base_uri": "https://localhost:8080/",
          "height": 147
        }
      },
      "source": [
        "# Finds the best learning rate for fine-tuning the language model\n",
        "%%time\n",
        "learn.lr_find()"
      ],
      "execution_count": 0,
      "outputs": [
        {
          "output_type": "display_data",
          "data": {
            "text/html": [
              "\n",
              "    <div>\n",
              "        <style>\n",
              "            /* Turns off some styling */\n",
              "            progress {\n",
              "                /* gets rid of default border in Firefox and Opera. */\n",
              "                border: none;\n",
              "                /* Needs to be in here for Safari polyfill so background images work as expected. */\n",
              "                background-size: auto;\n",
              "            }\n",
              "            .progress-bar-interrupted, .progress-bar-interrupted::-webkit-progress-bar {\n",
              "                background: #F44336;\n",
              "            }\n",
              "        </style>\n",
              "      <progress value='0' class='' max='1' style='width:300px; height:20px; vertical-align: middle;'></progress>\n",
              "      0.00% [0/1 00:00<00:00]\n",
              "    </div>\n",
              "    \n",
              "<table border=\"1\" class=\"dataframe\">\n",
              "  <thead>\n",
              "    <tr style=\"text-align: left;\">\n",
              "      <th>epoch</th>\n",
              "      <th>train_loss</th>\n",
              "      <th>valid_loss</th>\n",
              "      <th>accuracy</th>\n",
              "      <th>time</th>\n",
              "    </tr>\n",
              "  </thead>\n",
              "  <tbody>\n",
              "  </tbody>\n",
              "</table><p>\n",
              "\n",
              "    <div>\n",
              "        <style>\n",
              "            /* Turns off some styling */\n",
              "            progress {\n",
              "                /* gets rid of default border in Firefox and Opera. */\n",
              "                border: none;\n",
              "                /* Needs to be in here for Safari polyfill so background images work as expected. */\n",
              "                background-size: auto;\n",
              "            }\n",
              "            .progress-bar-interrupted, .progress-bar-interrupted::-webkit-progress-bar {\n",
              "                background: #F44336;\n",
              "            }\n",
              "        </style>\n",
              "      <progress value='99' class='' max='3461' style='width:300px; height:20px; vertical-align: middle;'></progress>\n",
              "      2.86% [99/3461 00:15<08:41 14.1249]\n",
              "    </div>\n",
              "    "
            ],
            "text/plain": [
              "<IPython.core.display.HTML object>"
            ]
          },
          "metadata": {
            "tags": []
          }
        },
        {
          "output_type": "stream",
          "text": [
            "LR Finder is complete, type {learner_name}.recorder.plot() to see the graph.\n",
            "CPU times: user 10.7 s, sys: 5.96 s, total: 16.6 s\n",
            "Wall time: 16.9 s\n"
          ],
          "name": "stdout"
        }
      ]
    },
    {
      "cell_type": "code",
      "metadata": {
        "id": "iHHIF4heNrCc",
        "colab_type": "code",
        "outputId": "a42080eb-040c-4f73-80da-9582fe64f7eb",
        "colab": {
          "base_uri": "https://localhost:8080/",
          "height": 314
        }
      },
      "source": [
        "learn.recorder.plot(suggestion=True)"
      ],
      "execution_count": 0,
      "outputs": [
        {
          "output_type": "stream",
          "text": [
            "Min numerical gradient: 1.58E-02\n",
            "Min loss divided by 10: 1.20E-02\n"
          ],
          "name": "stdout"
        },
        {
          "output_type": "display_data",
          "data": {
            "image/png": "[encoded data removed]",
            "text/plain": [
              "<Figure size 432x288 with 1 Axes>"
            ]
          },
          "metadata": {
            "tags": [],
            "needs_background": "light"
          }
        }
      ]
    },
    {
      "cell_type": "code",
      "metadata": {
        "id": "HAfWBZDUNsKo",
        "colab_type": "code",
        "outputId": "f5a0b9c6-1e8e-4c02-ed28-29a90f1e17f5",
        "colab": {
          "base_uri": "https://localhost:8080/",
          "height": 35
        }
      },
      "source": [
        "# Retrieves the best learning rate for the language model\n",
        "best_lm_lr = learn.recorder.min_grad_lr\n",
        "best_lm_lr"
      ],
      "execution_count": 0,
      "outputs": [
        {
          "output_type": "execute_result",
          "data": {
            "text/plain": [
              "0.01584893192461114"
            ]
          },
          "metadata": {
            "tags": []
          },
          "execution_count": 23
        }
      ]
    },
    {
      "cell_type": "code",
      "metadata": {
        "id": "n1ZbVgJhNteB",
        "colab_type": "code",
        "outputId": "d964819b-2bc5-422d-9e10-c622ebf795f7",
        "colab": {
          "base_uri": "https://localhost:8080/",
          "height": 79
        }
      },
      "source": [
        "# Learning with Discriminative fine-tuning and gradual unfreezing\n",
        "learn.fit_one_cycle(1, best_lm_lr, moms=(0.8,0.7), wd=0.1)"
      ],
      "execution_count": 0,
      "outputs": [
        {
          "output_type": "display_data",
          "data": {
            "text/html": [
              "<table border=\"1\" class=\"dataframe\">\n",
              "  <thead>\n",
              "    <tr style=\"text-align: left;\">\n",
              "      <th>epoch</th>\n",
              "      <th>train_loss</th>\n",
              "      <th>valid_loss</th>\n",
              "      <th>accuracy</th>\n",
              "      <th>time</th>\n",
              "    </tr>\n",
              "  </thead>\n",
              "  <tbody>\n",
              "    <tr>\n",
              "      <td>0</td>\n",
              "      <td>5.337577</td>\n",
              "      <td>4.972857</td>\n",
              "      <td>0.219481</td>\n",
              "      <td>09:40</td>\n",
              "    </tr>\n",
              "  </tbody>\n",
              "</table>"
            ],
            "text/plain": [
              "<IPython.core.display.HTML object>"
            ]
          },
          "metadata": {
            "tags": []
          }
        }
      ]
    },
    {
      "cell_type": "code",
      "metadata": {
        "id": "WBTs59v9NuqP",
        "colab_type": "code",
        "colab": {}
      },
      "source": [
        "learn.unfreeze()"
      ],
      "execution_count": 0,
      "outputs": []
    },
    {
      "cell_type": "code",
      "metadata": {
        "id": "V8XW9yrNNv6h",
        "colab_type": "code",
        "outputId": "381e255c-3b2a-4546-cb66-485c2b2b7862",
        "colab": {
          "base_uri": "https://localhost:8080/",
          "height": 114
        }
      },
      "source": [
        "%%time\n",
        "learn.fit_one_cycle(1, best_lm_lr/10, moms=(0.8,0.7), wd=0.1)"
      ],
      "execution_count": 0,
      "outputs": [
        {
          "output_type": "display_data",
          "data": {
            "text/html": [
              "<table border=\"1\" class=\"dataframe\">\n",
              "  <thead>\n",
              "    <tr style=\"text-align: left;\">\n",
              "      <th>epoch</th>\n",
              "      <th>train_loss</th>\n",
              "      <th>valid_loss</th>\n",
              "      <th>accuracy</th>\n",
              "      <th>time</th>\n",
              "    </tr>\n",
              "  </thead>\n",
              "  <tbody>\n",
              "    <tr>\n",
              "      <td>0</td>\n",
              "      <td>4.882156</td>\n",
              "      <td>4.636635</td>\n",
              "      <td>0.255899</td>\n",
              "      <td>09:47</td>\n",
              "    </tr>\n",
              "  </tbody>\n",
              "</table>"
            ],
            "text/plain": [
              "<IPython.core.display.HTML object>"
            ]
          },
          "metadata": {
            "tags": []
          }
        },
        {
          "output_type": "stream",
          "text": [
            "CPU times: user 6min 10s, sys: 3min 30s, total: 9min 40s\n",
            "Wall time: 9min 47s\n"
          ],
          "name": "stdout"
        }
      ]
    },
    {
      "cell_type": "code",
      "metadata": {
        "id": "OOzs_o1mN9Dx",
        "colab_type": "code",
        "colab": {}
      },
      "source": [
        "learn.save_encoder('fwd_enc')"
      ],
      "execution_count": 0,
      "outputs": []
    },
    {
      "cell_type": "code",
      "metadata": {
        "id": "I7MCeVPtN_e0",
        "colab_type": "code",
        "colab": {}
      },
      "source": [
        "learn = language_model_learner(data_bwd, AWD_LSTM)"
      ],
      "execution_count": 0,
      "outputs": []
    },
    {
      "cell_type": "code",
      "metadata": {
        "id": "MYTCRt89OFtr",
        "colab_type": "code",
        "outputId": "a3f0677e-817c-47fc-ff17-d3522d36f369",
        "colab": {
          "base_uri": "https://localhost:8080/",
          "height": 147
        }
      },
      "source": [
        "%%time\n",
        "learn.lr_find()"
      ],
      "execution_count": 0,
      "outputs": [
        {
          "output_type": "display_data",
          "data": {
            "text/html": [
              "\n",
              "    <div>\n",
              "        <style>\n",
              "            /* Turns off some styling */\n",
              "            progress {\n",
              "                /* gets rid of default border in Firefox and Opera. */\n",
              "                border: none;\n",
              "                /* Needs to be in here for Safari polyfill so background images work as expected. */\n",
              "                background-size: auto;\n",
              "            }\n",
              "            .progress-bar-interrupted, .progress-bar-interrupted::-webkit-progress-bar {\n",
              "                background: #F44336;\n",
              "            }\n",
              "        </style>\n",
              "      <progress value='0' class='' max='1' style='width:300px; height:20px; vertical-align: middle;'></progress>\n",
              "      0.00% [0/1 00:00<00:00]\n",
              "    </div>\n",
              "    \n",
              "<table border=\"1\" class=\"dataframe\">\n",
              "  <thead>\n",
              "    <tr style=\"text-align: left;\">\n",
              "      <th>epoch</th>\n",
              "      <th>train_loss</th>\n",
              "      <th>valid_loss</th>\n",
              "      <th>accuracy</th>\n",
              "      <th>time</th>\n",
              "    </tr>\n",
              "  </thead>\n",
              "  <tbody>\n",
              "  </tbody>\n",
              "</table><p>\n",
              "\n",
              "    <div>\n",
              "        <style>\n",
              "            /* Turns off some styling */\n",
              "            progress {\n",
              "                /* gets rid of default border in Firefox and Opera. */\n",
              "                border: none;\n",
              "                /* Needs to be in here for Safari polyfill so background images work as expected. */\n",
              "                background-size: auto;\n",
              "            }\n",
              "            .progress-bar-interrupted, .progress-bar-interrupted::-webkit-progress-bar {\n",
              "                background: #F44336;\n",
              "            }\n",
              "        </style>\n",
              "      <progress value='99' class='' max='3461' style='width:300px; height:20px; vertical-align: middle;'></progress>\n",
              "      2.86% [99/3461 00:15<08:42 13.6834]\n",
              "    </div>\n",
              "    "
            ],
            "text/plain": [
              "<IPython.core.display.HTML object>"
            ]
          },
          "metadata": {
            "tags": []
          }
        },
        {
          "output_type": "stream",
          "text": [
            "LR Finder is complete, type {learner_name}.recorder.plot() to see the graph.\n",
            "CPU times: user 10.9 s, sys: 6.15 s, total: 17 s\n",
            "Wall time: 17.3 s\n"
          ],
          "name": "stdout"
        }
      ]
    },
    {
      "cell_type": "code",
      "metadata": {
        "id": "JuMn-yTgOHPO",
        "colab_type": "code",
        "outputId": "2e2318fb-c123-4ed4-fd93-4a4edf816a4d",
        "colab": {
          "base_uri": "https://localhost:8080/",
          "height": 314
        }
      },
      "source": [
        "learn.recorder.plot(suggestion=True)"
      ],
      "execution_count": 0,
      "outputs": [
        {
          "output_type": "stream",
          "text": [
            "Min numerical gradient: 6.31E-07\n",
            "Min loss divided by 10: 1.45E-02\n"
          ],
          "name": "stdout"
        },
        {
          "output_type": "display_data",
          "data": {
            "image/png": "[encoded data removed]",
            "text/plain": [
              "<Figure size 432x288 with 1 Axes>"
            ]
          },
          "metadata": {
            "tags": [],
            "needs_background": "light"
          }
        }
      ]
    },
    {
      "cell_type": "code",
      "metadata": {
        "id": "fad_XCcLOIo7",
        "colab_type": "code",
        "outputId": "2f17b643-30de-4f13-dbeb-a9af24992a17",
        "colab": {
          "base_uri": "https://localhost:8080/",
          "height": 35
        }
      },
      "source": [
        "best_lm_lr_bwd = learn.recorder.min_grad_lr\n",
        "best_lm_lr_bwd"
      ],
      "execution_count": 0,
      "outputs": [
        {
          "output_type": "execute_result",
          "data": {
            "text/plain": [
              "6.309573444801933e-07"
            ]
          },
          "metadata": {
            "tags": []
          },
          "execution_count": 33
        }
      ]
    },
    {
      "cell_type": "code",
      "metadata": {
        "id": "O9sMoNuIOLsK",
        "colab_type": "code",
        "outputId": "0f8ded9d-85bd-4560-c565-d0d39a54a3b9",
        "colab": {
          "base_uri": "https://localhost:8080/",
          "height": 79
        }
      },
      "source": [
        "learn.fit_one_cycle(1, best_lm_lr_bwd, moms=(0.8,0.7), wd=0.1)"
      ],
      "execution_count": 0,
      "outputs": [
        {
          "output_type": "display_data",
          "data": {
            "text/html": [
              "<table border=\"1\" class=\"dataframe\">\n",
              "  <thead>\n",
              "    <tr style=\"text-align: left;\">\n",
              "      <th>epoch</th>\n",
              "      <th>train_loss</th>\n",
              "      <th>valid_loss</th>\n",
              "      <th>accuracy</th>\n",
              "      <th>time</th>\n",
              "    </tr>\n",
              "  </thead>\n",
              "  <tbody>\n",
              "    <tr>\n",
              "      <td>0</td>\n",
              "      <td>6.563960</td>\n",
              "      <td>6.160361</td>\n",
              "      <td>0.152435</td>\n",
              "      <td>09:40</td>\n",
              "    </tr>\n",
              "  </tbody>\n",
              "</table>"
            ],
            "text/plain": [
              "<IPython.core.display.HTML object>"
            ]
          },
          "metadata": {
            "tags": []
          }
        }
      ]
    },
    {
      "cell_type": "code",
      "metadata": {
        "id": "Ad3DiOzzOOk3",
        "colab_type": "code",
        "colab": {}
      },
      "source": [
        "learn.unfreeze()"
      ],
      "execution_count": 0,
      "outputs": []
    },
    {
      "cell_type": "code",
      "metadata": {
        "id": "cggXPmA2OS3E",
        "colab_type": "code",
        "outputId": "0de7bc67-de7e-48b6-d2b0-4f4aa242bbcb",
        "colab": {
          "base_uri": "https://localhost:8080/",
          "height": 114
        }
      },
      "source": [
        "%%time\n",
        "learn.fit_one_cycle(1, best_lm_lr_bwd/10, moms=(0.8,0.7), wd=0.1)"
      ],
      "execution_count": 0,
      "outputs": [
        {
          "output_type": "display_data",
          "data": {
            "text/html": [
              "<table border=\"1\" class=\"dataframe\">\n",
              "  <thead>\n",
              "    <tr style=\"text-align: left;\">\n",
              "      <th>epoch</th>\n",
              "      <th>train_loss</th>\n",
              "      <th>valid_loss</th>\n",
              "      <th>accuracy</th>\n",
              "      <th>time</th>\n",
              "    </tr>\n",
              "  </thead>\n",
              "  <tbody>\n",
              "    <tr>\n",
              "      <td>0</td>\n",
              "      <td>6.489982</td>\n",
              "      <td>6.119253</td>\n",
              "      <td>0.154396</td>\n",
              "      <td>09:46</td>\n",
              "    </tr>\n",
              "  </tbody>\n",
              "</table>"
            ],
            "text/plain": [
              "<IPython.core.display.HTML object>"
            ]
          },
          "metadata": {
            "tags": []
          }
        },
        {
          "output_type": "stream",
          "text": [
            "CPU times: user 6min 9s, sys: 3min 31s, total: 9min 40s\n",
            "Wall time: 9min 46s\n"
          ],
          "name": "stdout"
        }
      ]
    },
    {
      "cell_type": "code",
      "metadata": {
        "id": "vZhWz-DjOVqH",
        "colab_type": "code",
        "colab": {}
      },
      "source": [
        "learn.save_encoder('bwd_enc')"
      ],
      "execution_count": 0,
      "outputs": []
    },
    {
      "cell_type": "markdown",
      "metadata": {
        "id": "MW4YKrpNY8zJ",
        "colab_type": "text"
      },
      "source": [
        "##Fine-tuning the Classifier"
      ]
    },
    {
      "cell_type": "code",
      "metadata": {
        "id": "axwq0HxtRm9U",
        "colab_type": "code",
        "outputId": "e8286fb6-4ef1-4f8d-8a7e-7fdf93df3f7e",
        "colab": {
          "base_uri": "https://localhost:8080/",
          "height": 17
        }
      },
      "source": [
        "data_clas_local = TextClasDataBunch.from_csv(path=folder, \n",
        "                                        csv_name=test_file,\n",
        "                                        vocab=data_lm.train_ds.vocab, \n",
        "                                        bs=32,\n",
        "                                        text_cols='Comment', \n",
        "                                        label_cols='Insult')"
      ],
      "execution_count": 0,
      "outputs": [
        {
          "output_type": "display_data",
          "data": {
            "text/html": [
              ""
            ],
            "text/plain": [
              "<IPython.core.display.HTML object>"
            ]
          },
          "metadata": {
            "tags": []
          }
        },
        {
          "output_type": "display_data",
          "data": {
            "text/html": [
              ""
            ],
            "text/plain": [
              "<IPython.core.display.HTML object>"
            ]
          },
          "metadata": {
            "tags": []
          }
        }
      ]
    },
    {
      "cell_type": "code",
      "metadata": {
        "id": "n_wYFM4JUBPl",
        "colab_type": "code",
        "outputId": "17f9ed09-1ced-4c51-8bb5-3a4f26d07675",
        "colab": {
          "base_uri": "https://localhost:8080/",
          "height": 549
        }
      },
      "source": [
        "data_clas_local.show_batch()"
      ],
      "execution_count": 0,
      "outputs": [
        {
          "output_type": "display_data",
          "data": {
            "text/html": [
              "<table border=\"1\" class=\"dataframe\">\n",
              "  <thead>\n",
              "    <tr style=\"text-align: right;\">\n",
              "      <th>text</th>\n",
              "      <th>target</th>\n",
              "    </tr>\n",
              "  </thead>\n",
              "  <tbody>\n",
              "    <tr>\n",
              "      <td>xxbos xxmaj xxunk it xxunk just diff cultures la xxunk china men are known to spoil their xxunk and spend money on them like water like that xxunk xxunk they are literally brought up that way lol xxunk xxunk xxunk tbh if he is not spending xxunk on you despite his high salary xxunk why not u just communicate what u want xxunk xxunk xxunk why u want to post</td>\n",
              "      <td>0</td>\n",
              "    </tr>\n",
              "    <tr>\n",
              "      <td>xxbos i do agree the xxup lta officer acted in a professional way xxunk but who confronted who in the first place xxunk xxup lta said the delivery rider confronted the xxup lta officer xxunk was that so xxunk xxunk xxmaj if the rider has been smoking in a non xxunk prohibited place xxunk why did the officer confront the rider xxunk xxmaj does xxunk he know how to put</td>\n",
              "      <td>0</td>\n",
              "    </tr>\n",
              "    <tr>\n",
              "      <td>xxbos xxmaj you do nt be so xxunk xxmaj xxunk can or not xxunk xxunk xxmaj inhale cigarette then put on mask on and off xxunk xxunk xxmaj your xxunk common sense teach u is it xxunk u want rider to dye from smoking is it xxunk xxmaj damn xxunk people think this way is it xxunk xxmaj if xxunk and those exercise can have priviledge not wearing mask then</td>\n",
              "      <td>1</td>\n",
              "    </tr>\n",
              "    <tr>\n",
              "      <td>xxbos xxmaj kudos to xxup lta enforcement officer xxunk cool and composed xxunk you must know your work very well xxunk you understand and calm each and everyone hearing your good advise xxunk xxunk xxmaj you did xxunk realised monkey is recording you too xxunk cause only small dd donkey do monkey business xxunk if you know what i mean xxunk xxmaj do xxunk be disheartened xxunk you are doing</td>\n",
              "      <td>1</td>\n",
              "    </tr>\n",
              "    <tr>\n",
              "      <td>xxbos xxmaj the virus do xxunk give a crap whether or not u r xxunk or xxmaj singaporean xxmaj that is why the world should unite xxunk xxmaj there is nothing anti xxunk china xxunk xxmaj there is nothing anti xxunk chinese xxunk xxmaj the correct attitude is to avoid ccp killing people in xxmaj china and outside xxmaj china the 3rd xxunk the 4th time and so on xxunk</td>\n",
              "      <td>0</td>\n",
              "    </tr>\n",
              "  </tbody>\n",
              "</table>"
            ],
            "text/plain": [
              "<IPython.core.display.HTML object>"
            ]
          },
          "metadata": {
            "tags": []
          }
        }
      ]
    },
    {
      "cell_type": "code",
      "metadata": {
        "colab_type": "code",
        "id": "NXweYrQIRyJW",
        "colab": {}
      },
      "source": [
        "data_clas_local.save('data_clas_local.pkl')"
      ],
      "execution_count": 0,
      "outputs": []
    },
    {
      "cell_type": "code",
      "metadata": {
        "id": "vsci3AAIR0-R",
        "colab_type": "code",
        "colab": {}
      },
      "source": [
        "data_clas_local = load_data(folder, 'data_clas_local.pkl', bs=bs)"
      ],
      "execution_count": 0,
      "outputs": []
    },
    {
      "cell_type": "code",
      "metadata": {
        "id": "DyHoZ5_CTqVN",
        "colab_type": "code",
        "colab": {}
      },
      "source": [
        "data_clas_local_bwd = load_data(folder, 'data_clas_local.pkl', bs=bs, backwards=True)"
      ],
      "execution_count": 0,
      "outputs": []
    },
    {
      "cell_type": "code",
      "metadata": {
        "id": "vRw7dRVoTyl0",
        "colab_type": "code",
        "outputId": "4d23a79e-25ba-4133-f1e5-e2113009bfbe",
        "colab": {
          "base_uri": "https://localhost:8080/",
          "height": 531
        }
      },
      "source": [
        "data_clas_local_bwd.show_batch()"
      ],
      "execution_count": 0,
      "outputs": [
        {
          "output_type": "display_data",
          "data": {
            "text/html": [
              "<table border=\"1\" class=\"dataframe\">\n",
              "  <thead>\n",
              "    <tr style=\"text-align: right;\">\n",
              "      <th>text</th>\n",
              "      <th>target</th>\n",
              "    </tr>\n",
              "  </thead>\n",
              "  <tbody>\n",
              "    <tr>\n",
              "      <td>pls communicate xxup just xxup xxunk la wrong or right no is there xxunk xxunk xxunk people mature like it about communicate can all xxunk then something for up saving is he unless xxunk xxunk xxunk means monetary the has he since it do and ahead go xxunk he sure xxunk i xxunk happy u makes u for bag chanel xxmaj a buying if xxmaj xxunk right expectations your communicate</td>\n",
              "      <td>0</td>\n",
              "    </tr>\n",
              "    <tr>\n",
              "      <td>xxunk otherwise thinks eyes public the of members but xxunk wrong nothing did he when officers enforcement many so by confronted being for upset very be must rider this xxmaj xxunk mistake the for apologies officer the not can why xxunk smoking was he while mask a on putting not for rider the mistaken has officer lta xxup the if xxmaj xxunk made was offence no though even you confronted</td>\n",
              "      <td>0</td>\n",
              "    </tr>\n",
              "    <tr>\n",
              "      <td>xxunk ok xxup n 7 xxrep i 4 xxrep bra xxup your xxup use xxup xxunk brain xxup your xxup use xxup so xxup xxunk mosquitoes kill like around air bad kill to help knows who xxunk like is smoke the xxunk only minutes 15 or 10 only not can smoker why then mask wearing not priviledge have can exercise those and xxunk if xxmaj xxunk it is way this</td>\n",
              "      <td>1</td>\n",
              "    </tr>\n",
              "    <tr>\n",
              "      <td>xxunk me on tea bubbles and xxunk done well xxmaj xxunk xxunk you see i whenever you salute will i and xxunk you xxmaj salute xxmaj i xxunk this with xxmaj xxunk now needed most country xxmaj the which xxunk went you xxmaj xxunk sun hot under job great a doing are you xxunk disheartened be xxunk do xxmaj xxunk mean i what know you if xxunk business monkey do</td>\n",
              "      <td>1</td>\n",
              "    </tr>\n",
              "    <tr>\n",
              "      <td>hands your in blood have xxunk should u why is that and xxunk ones closed our be can it and die can anyone xxunk xxmaj xxunk on so and time 4th the xxunk 3rd the china xxmaj outside and china xxmaj in people killing ccp avoid to is attitude correct the xxmaj xxunk chinese xxunk anti nothing is there xxmaj xxunk china xxunk anti nothing is there xxmaj xxunk unite</td>\n",
              "      <td>0</td>\n",
              "    </tr>\n",
              "  </tbody>\n",
              "</table>"
            ],
            "text/plain": [
              "<IPython.core.display.HTML object>"
            ]
          },
          "metadata": {
            "tags": []
          }
        }
      ]
    },
    {
      "cell_type": "code",
      "metadata": {
        "id": "jrj4H-p0R7el",
        "colab_type": "code",
        "outputId": "1f02c632-eca0-49a1-cab2-d13837cd485a",
        "colab": {
          "base_uri": "https://localhost:8080/",
          "height": 1000
        }
      },
      "source": [
        "learn_clas_local = text_classifier_learner(data_clas_local, AWD_LSTM, drop_mult=0.5, pretrained=False)\n",
        "learn_clas_local.load_encoder('fwd_enc')"
      ],
      "execution_count": 0,
      "outputs": [
        {
          "output_type": "execute_result",
          "data": {
            "text/plain": [
              "RNNLearner(data=TextClasDataBunch;\n",
              "\n",
              "Train: LabelList (239 items)\n",
              "x: TextList\n",
              "xxbos xxmaj she video it to find any possibility to win xxunk xxunk xxunk so stupid to use such skill and waste of everyone time at this moment xxunk,xxbos xxmaj must put on mask when talking and taking video la xxunk xxunk xxmaj we do not see anyone smoking in this video la xxunk,xxbos i xxmaj am christian but the sex xxmaj is xxmaj so good xxunk,xxbos xxunk erm xxunk you do not sound like you have a problem xxunk so why are you posting here xxunk xxmaj or my reading comprehension fail xxunk xxunk,xxbos xxmaj foreign xxmaj workers got infected totally due to fault of locals xxunk xxmaj these workers got infected due to careless behaviour of locals xxunk\n",
              "y: CategoryList\n",
              "1,1,1,1,0\n",
              "Path: .;\n",
              "\n",
              "Valid: LabelList (61 items)\n",
              "x: TextList\n",
              "xxbos xxmaj err f off la xxunk xxmaj nobody need u to comment,xxbos xxmaj like an entitled whore xxunk xxmaj all these xxmaj generals want to show good xxunk so that can pay millions to themselves xxunk xxmaj xxunk xxunk xxunk,xxbos really xxunk max,xxbos just bunch of loser in xxup real xxup life xxunk online try to be smart xxunk actually is self owned xxunk go xxup csi xxunk google etc people info,xxbos xxmaj improve on yourself xxunk xxmaj buy some new makeup xxunk change your room xxunk or buy a new candle or scent or start to learn cooking xxunk xxmaj anything to make yourself feel better xxunk xxmaj small simple changes give you time to register what have happened and reflect xxunk xxmaj take your time and heal xxunk\n",
              "y: CategoryList\n",
              "1,1,0,1,0\n",
              "Path: .;\n",
              "\n",
              "Test: None, model=SequentialRNN(\n",
              "  (0): MultiBatchEncoder(\n",
              "    (module): AWD_LSTM(\n",
              "      (encoder): Embedding(60000, 400, padding_idx=1)\n",
              "      (encoder_dp): EmbeddingDropout(\n",
              "        (emb): Embedding(60000, 400, padding_idx=1)\n",
              "      )\n",
              "      (rnns): ModuleList(\n",
              "        (0): WeightDropout(\n",
              "          (module): LSTM(400, 1152, batch_first=True)\n",
              "        )\n",
              "        (1): WeightDropout(\n",
              "          (module): LSTM(1152, 1152, batch_first=True)\n",
              "        )\n",
              "        (2): WeightDropout(\n",
              "          (module): LSTM(1152, 400, batch_first=True)\n",
              "        )\n",
              "      )\n",
              "      (input_dp): RNNDropout()\n",
              "      (hidden_dps): ModuleList(\n",
              "        (0): RNNDropout()\n",
              "        (1): RNNDropout()\n",
              "        (2): RNNDropout()\n",
              "      )\n",
              "    )\n",
              "  )\n",
              "  (1): PoolingLinearClassifier(\n",
              "    (layers): Sequential(\n",
              "      (0): BatchNorm1d(1200, eps=1e-05, momentum=0.1, affine=True, track_running_stats=True)\n",
              "      (1): Dropout(p=0.2, inplace=False)\n",
              "      (2): Linear(in_features=1200, out_features=50, bias=True)\n",
              "      (3): ReLU(inplace=True)\n",
              "      (4): BatchNorm1d(50, eps=1e-05, momentum=0.1, affine=True, track_running_stats=True)\n",
              "      (5): Dropout(p=0.1, inplace=False)\n",
              "      (6): Linear(in_features=50, out_features=2, bias=True)\n",
              "    )\n",
              "  )\n",
              "), opt_func=functools.partial(<class 'torch.optim.adam.Adam'>, betas=(0.9, 0.99)), loss_func=FlattenedLoss of CrossEntropyLoss(), metrics=[<function accuracy at 0x7f2650abfa60>], true_wd=True, bn_wd=True, wd=0.01, train_bn=True, path=PosixPath('.'), model_dir='models', callback_fns=[functools.partial(<class 'fastai.basic_train.Recorder'>, add_time=True, silent=False)], callbacks=[RNNTrainer\n",
              "learn: RNNLearner(data=TextClasDataBunch;\n",
              "\n",
              "Train: LabelList (239 items)\n",
              "x: TextList\n",
              "xxbos xxmaj she video it to find any possibility to win xxunk xxunk xxunk so stupid to use such skill and waste of everyone time at this moment xxunk,xxbos xxmaj must put on mask when talking and taking video la xxunk xxunk xxmaj we do not see anyone smoking in this video la xxunk,xxbos i xxmaj am christian but the sex xxmaj is xxmaj so good xxunk,xxbos xxunk erm xxunk you do not sound like you have a problem xxunk so why are you posting here xxunk xxmaj or my reading comprehension fail xxunk xxunk,xxbos xxmaj foreign xxmaj workers got infected totally due to fault of locals xxunk xxmaj these workers got infected due to careless behaviour of locals xxunk\n",
              "y: CategoryList\n",
              "1,1,1,1,0\n",
              "Path: .;\n",
              "\n",
              "Valid: LabelList (61 items)\n",
              "x: TextList\n",
              "xxbos xxmaj err f off la xxunk xxmaj nobody need u to comment,xxbos xxmaj like an entitled whore xxunk xxmaj all these xxmaj generals want to show good xxunk so that can pay millions to themselves xxunk xxmaj xxunk xxunk xxunk,xxbos really xxunk max,xxbos just bunch of loser in xxup real xxup life xxunk online try to be smart xxunk actually is self owned xxunk go xxup csi xxunk google etc people info,xxbos xxmaj improve on yourself xxunk xxmaj buy some new makeup xxunk change your room xxunk or buy a new candle or scent or start to learn cooking xxunk xxmaj anything to make yourself feel better xxunk xxmaj small simple changes give you time to register what have happened and reflect xxunk xxmaj take your time and heal xxunk\n",
              "y: CategoryList\n",
              "1,1,0,1,0\n",
              "Path: .;\n",
              "\n",
              "Test: None, model=SequentialRNN(\n",
              "  (0): MultiBatchEncoder(\n",
              "    (module): AWD_LSTM(\n",
              "      (encoder): Embedding(60000, 400, padding_idx=1)\n",
              "      (encoder_dp): EmbeddingDropout(\n",
              "        (emb): Embedding(60000, 400, padding_idx=1)\n",
              "      )\n",
              "      (rnns): ModuleList(\n",
              "        (0): WeightDropout(\n",
              "          (module): LSTM(400, 1152, batch_first=True)\n",
              "        )\n",
              "        (1): WeightDropout(\n",
              "          (module): LSTM(1152, 1152, batch_first=True)\n",
              "        )\n",
              "        (2): WeightDropout(\n",
              "          (module): LSTM(1152, 400, batch_first=True)\n",
              "        )\n",
              "      )\n",
              "      (input_dp): RNNDropout()\n",
              "      (hidden_dps): ModuleList(\n",
              "        (0): RNNDropout()\n",
              "        (1): RNNDropout()\n",
              "        (2): RNNDropout()\n",
              "      )\n",
              "    )\n",
              "  )\n",
              "  (1): PoolingLinearClassifier(\n",
              "    (layers): Sequential(\n",
              "      (0): BatchNorm1d(1200, eps=1e-05, momentum=0.1, affine=True, track_running_stats=True)\n",
              "      (1): Dropout(p=0.2, inplace=False)\n",
              "      (2): Linear(in_features=1200, out_features=50, bias=True)\n",
              "      (3): ReLU(inplace=True)\n",
              "      (4): BatchNorm1d(50, eps=1e-05, momentum=0.1, affine=True, track_running_stats=True)\n",
              "      (5): Dropout(p=0.1, inplace=False)\n",
              "      (6): Linear(in_features=50, out_features=2, bias=True)\n",
              "    )\n",
              "  )\n",
              "), opt_func=functools.partial(<class 'torch.optim.adam.Adam'>, betas=(0.9, 0.99)), loss_func=FlattenedLoss of CrossEntropyLoss(), metrics=[<function accuracy at 0x7f2650abfa60>], true_wd=True, bn_wd=True, wd=0.01, train_bn=True, path=PosixPath('.'), model_dir='models', callback_fns=[functools.partial(<class 'fastai.basic_train.Recorder'>, add_time=True, silent=False)], callbacks=[...], layer_groups=[Sequential(\n",
              "  (0): Embedding(60000, 400, padding_idx=1)\n",
              "  (1): EmbeddingDropout(\n",
              "    (emb): Embedding(60000, 400, padding_idx=1)\n",
              "  )\n",
              "), Sequential(\n",
              "  (0): WeightDropout(\n",
              "    (module): LSTM(400, 1152, batch_first=True)\n",
              "  )\n",
              "  (1): RNNDropout()\n",
              "), Sequential(\n",
              "  (0): WeightDropout(\n",
              "    (module): LSTM(1152, 1152, batch_first=True)\n",
              "  )\n",
              "  (1): RNNDropout()\n",
              "), Sequential(\n",
              "  (0): WeightDropout(\n",
              "    (module): LSTM(1152, 400, batch_first=True)\n",
              "  )\n",
              "  (1): RNNDropout()\n",
              "), Sequential(\n",
              "  (0): PoolingLinearClassifier(\n",
              "    (layers): Sequential(\n",
              "      (0): BatchNorm1d(1200, eps=1e-05, momentum=0.1, affine=True, track_running_stats=True)\n",
              "      (1): Dropout(p=0.2, inplace=False)\n",
              "      (2): Linear(in_features=1200, out_features=50, bias=True)\n",
              "      (3): ReLU(inplace=True)\n",
              "      (4): BatchNorm1d(50, eps=1e-05, momentum=0.1, affine=True, track_running_stats=True)\n",
              "      (5): Dropout(p=0.1, inplace=False)\n",
              "      (6): Linear(in_features=50, out_features=2, bias=True)\n",
              "    )\n",
              "  )\n",
              ")], add_time=True, silent=False)\n",
              "alpha: 2.0\n",
              "beta: 1.0], layer_groups=[Sequential(\n",
              "  (0): Embedding(60000, 400, padding_idx=1)\n",
              "  (1): EmbeddingDropout(\n",
              "    (emb): Embedding(60000, 400, padding_idx=1)\n",
              "  )\n",
              "), Sequential(\n",
              "  (0): WeightDropout(\n",
              "    (module): LSTM(400, 1152, batch_first=True)\n",
              "  )\n",
              "  (1): RNNDropout()\n",
              "), Sequential(\n",
              "  (0): WeightDropout(\n",
              "    (module): LSTM(1152, 1152, batch_first=True)\n",
              "  )\n",
              "  (1): RNNDropout()\n",
              "), Sequential(\n",
              "  (0): WeightDropout(\n",
              "    (module): LSTM(1152, 400, batch_first=True)\n",
              "  )\n",
              "  (1): RNNDropout()\n",
              "), Sequential(\n",
              "  (0): PoolingLinearClassifier(\n",
              "    (layers): Sequential(\n",
              "      (0): BatchNorm1d(1200, eps=1e-05, momentum=0.1, affine=True, track_running_stats=True)\n",
              "      (1): Dropout(p=0.2, inplace=False)\n",
              "      (2): Linear(in_features=1200, out_features=50, bias=True)\n",
              "      (3): ReLU(inplace=True)\n",
              "      (4): BatchNorm1d(50, eps=1e-05, momentum=0.1, affine=True, track_running_stats=True)\n",
              "      (5): Dropout(p=0.1, inplace=False)\n",
              "      (6): Linear(in_features=50, out_features=2, bias=True)\n",
              "    )\n",
              "  )\n",
              ")], add_time=True, silent=False)"
            ]
          },
          "metadata": {
            "tags": []
          },
          "execution_count": 45
        }
      ]
    },
    {
      "cell_type": "code",
      "metadata": {
        "id": "va3_tlSxR8By",
        "colab_type": "code",
        "outputId": "83653c5c-d091-431e-dde6-52ccbb48e356",
        "colab": {
          "base_uri": "https://localhost:8080/",
          "height": 511
        }
      },
      "source": [
        "learn_clas_local.lr_find()"
      ],
      "execution_count": 0,
      "outputs": [
        {
          "output_type": "display_data",
          "data": {
            "text/html": [
              "\n",
              "    <div>\n",
              "        <style>\n",
              "            /* Turns off some styling */\n",
              "            progress {\n",
              "                /* gets rid of default border in Firefox and Opera. */\n",
              "                border: none;\n",
              "                /* Needs to be in here for Safari polyfill so background images work as expected. */\n",
              "                background-size: auto;\n",
              "            }\n",
              "            .progress-bar-interrupted, .progress-bar-interrupted::-webkit-progress-bar {\n",
              "                background: #F44336;\n",
              "            }\n",
              "        </style>\n",
              "      <progress value='13' class='' max='15' style='width:300px; height:20px; vertical-align: middle;'></progress>\n",
              "      86.67% [13/15 00:08<00:01]\n",
              "    </div>\n",
              "    \n",
              "<table border=\"1\" class=\"dataframe\">\n",
              "  <thead>\n",
              "    <tr style=\"text-align: left;\">\n",
              "      <th>epoch</th>\n",
              "      <th>train_loss</th>\n",
              "      <th>valid_loss</th>\n",
              "      <th>accuracy</th>\n",
              "      <th>time</th>\n",
              "    </tr>\n",
              "  </thead>\n",
              "  <tbody>\n",
              "    <tr>\n",
              "      <td>0</td>\n",
              "      <td>0.739323</td>\n",
              "      <td>#na#</td>\n",
              "      <td>00:00</td>\n",
              "    </tr>\n",
              "    <tr>\n",
              "      <td>1</td>\n",
              "      <td>0.759597</td>\n",
              "      <td>#na#</td>\n",
              "      <td>00:00</td>\n",
              "    </tr>\n",
              "    <tr>\n",
              "      <td>2</td>\n",
              "      <td>0.775147</td>\n",
              "      <td>#na#</td>\n",
              "      <td>00:00</td>\n",
              "    </tr>\n",
              "    <tr>\n",
              "      <td>3</td>\n",
              "      <td>0.783816</td>\n",
              "      <td>#na#</td>\n",
              "      <td>00:00</td>\n",
              "    </tr>\n",
              "    <tr>\n",
              "      <td>4</td>\n",
              "      <td>0.775557</td>\n",
              "      <td>#na#</td>\n",
              "      <td>00:00</td>\n",
              "    </tr>\n",
              "    <tr>\n",
              "      <td>5</td>\n",
              "      <td>0.766632</td>\n",
              "      <td>#na#</td>\n",
              "      <td>00:00</td>\n",
              "    </tr>\n",
              "    <tr>\n",
              "      <td>6</td>\n",
              "      <td>0.756000</td>\n",
              "      <td>#na#</td>\n",
              "      <td>00:00</td>\n",
              "    </tr>\n",
              "    <tr>\n",
              "      <td>7</td>\n",
              "      <td>0.720159</td>\n",
              "      <td>#na#</td>\n",
              "      <td>00:00</td>\n",
              "    </tr>\n",
              "    <tr>\n",
              "      <td>8</td>\n",
              "      <td>0.665860</td>\n",
              "      <td>#na#</td>\n",
              "      <td>00:00</td>\n",
              "    </tr>\n",
              "    <tr>\n",
              "      <td>9</td>\n",
              "      <td>0.619585</td>\n",
              "      <td>#na#</td>\n",
              "      <td>00:00</td>\n",
              "    </tr>\n",
              "    <tr>\n",
              "      <td>10</td>\n",
              "      <td>0.577965</td>\n",
              "      <td>#na#</td>\n",
              "      <td>00:00</td>\n",
              "    </tr>\n",
              "    <tr>\n",
              "      <td>11</td>\n",
              "      <td>0.582224</td>\n",
              "      <td>#na#</td>\n",
              "      <td>00:00</td>\n",
              "    </tr>\n",
              "    <tr>\n",
              "      <td>12</td>\n",
              "      <td>0.824657</td>\n",
              "      <td>#na#</td>\n",
              "      <td>00:00</td>\n",
              "    </tr>\n",
              "  </tbody>\n",
              "</table><p>\n",
              "\n",
              "    <div>\n",
              "        <style>\n",
              "            /* Turns off some styling */\n",
              "            progress {\n",
              "                /* gets rid of default border in Firefox and Opera. */\n",
              "                border: none;\n",
              "                /* Needs to be in here for Safari polyfill so background images work as expected. */\n",
              "                background-size: auto;\n",
              "            }\n",
              "            .progress-bar-interrupted, .progress-bar-interrupted::-webkit-progress-bar {\n",
              "                background: #F44336;\n",
              "            }\n",
              "        </style>\n",
              "      <progress value='3' class='' max='7' style='width:300px; height:20px; vertical-align: middle;'></progress>\n",
              "      42.86% [3/7 00:00<00:00 1.9007]\n",
              "    </div>\n",
              "    "
            ],
            "text/plain": [
              "<IPython.core.display.HTML object>"
            ]
          },
          "metadata": {
            "tags": []
          }
        },
        {
          "output_type": "stream",
          "text": [
            "LR Finder is complete, type {learner_name}.recorder.plot() to see the graph.\n"
          ],
          "name": "stdout"
        }
      ]
    },
    {
      "cell_type": "code",
      "metadata": {
        "id": "msK662aOR_ty",
        "colab_type": "code",
        "outputId": "30251834-debd-41ac-f7e8-fb9be0439af6",
        "colab": {
          "base_uri": "https://localhost:8080/",
          "height": 314
        }
      },
      "source": [
        "learn_clas_local.recorder.plot(suggestion=True)"
      ],
      "execution_count": 0,
      "outputs": [
        {
          "output_type": "stream",
          "text": [
            "Min numerical gradient: 3.63E-03\n",
            "Min loss divided by 10: 1.74E-02\n"
          ],
          "name": "stdout"
        },
        {
          "output_type": "display_data",
          "data": {
            "image/png": "[encoded data removed]",
            "text/plain": [
              "<Figure size 432x288 with 1 Axes>"
            ]
          },
          "metadata": {
            "tags": [],
            "needs_background": "light"
          }
        }
      ]
    },
    {
      "cell_type": "code",
      "metadata": {
        "id": "D5x6lp3XSFaJ",
        "colab_type": "code",
        "outputId": "de7830e2-098a-4ca4-8369-d171ca13431b",
        "colab": {
          "base_uri": "https://localhost:8080/",
          "height": 35
        }
      },
      "source": [
        "best_clf_lr_local = learn_clas_local.recorder.min_grad_lr\n",
        "best_clf_lr_local"
      ],
      "execution_count": 0,
      "outputs": [
        {
          "output_type": "execute_result",
          "data": {
            "text/plain": [
              "0.00363078054770101"
            ]
          },
          "metadata": {
            "tags": []
          },
          "execution_count": 48
        }
      ]
    },
    {
      "cell_type": "code",
      "metadata": {
        "id": "6HXu0sgjSF7_",
        "colab_type": "code",
        "outputId": "6af7c77e-dd63-40da-e8e5-1948f36d3a32",
        "colab": {
          "base_uri": "https://localhost:8080/",
          "height": 79
        }
      },
      "source": [
        "learn_clas_local.fit_one_cycle(1, best_clf_lr_local, moms=(0.8,0.7), wd=0.1)"
      ],
      "execution_count": 0,
      "outputs": [
        {
          "output_type": "display_data",
          "data": {
            "text/html": [
              "<table border=\"1\" class=\"dataframe\">\n",
              "  <thead>\n",
              "    <tr style=\"text-align: left;\">\n",
              "      <th>epoch</th>\n",
              "      <th>train_loss</th>\n",
              "      <th>valid_loss</th>\n",
              "      <th>accuracy</th>\n",
              "      <th>time</th>\n",
              "    </tr>\n",
              "  </thead>\n",
              "  <tbody>\n",
              "    <tr>\n",
              "      <td>0</td>\n",
              "      <td>0.744087</td>\n",
              "      <td>0.669639</td>\n",
              "      <td>0.557377</td>\n",
              "      <td>00:00</td>\n",
              "    </tr>\n",
              "  </tbody>\n",
              "</table>"
            ],
            "text/plain": [
              "<IPython.core.display.HTML object>"
            ]
          },
          "metadata": {
            "tags": []
          }
        }
      ]
    },
    {
      "cell_type": "code",
      "metadata": {
        "id": "OZez8386SNuN",
        "colab_type": "code",
        "outputId": "cf8cf65b-f0ff-4588-fbdf-7c26c6170096",
        "colab": {
          "base_uri": "https://localhost:8080/",
          "height": 79
        }
      },
      "source": [
        "learn_clas_local.freeze_to(-2)\n",
        "best_clf_lr_local /= 2\n",
        "learn_clas_local.fit_one_cycle(1, slice(best_clf_lr_local/(2.6**4),best_clf_lr_local), moms=(0.8,0.7), wd=0.1)"
      ],
      "execution_count": 0,
      "outputs": [
        {
          "output_type": "display_data",
          "data": {
            "text/html": [
              "<table border=\"1\" class=\"dataframe\">\n",
              "  <thead>\n",
              "    <tr style=\"text-align: left;\">\n",
              "      <th>epoch</th>\n",
              "      <th>train_loss</th>\n",
              "      <th>valid_loss</th>\n",
              "      <th>accuracy</th>\n",
              "      <th>time</th>\n",
              "    </tr>\n",
              "  </thead>\n",
              "  <tbody>\n",
              "    <tr>\n",
              "      <td>0</td>\n",
              "      <td>0.525292</td>\n",
              "      <td>0.670863</td>\n",
              "      <td>0.590164</td>\n",
              "      <td>00:00</td>\n",
              "    </tr>\n",
              "  </tbody>\n",
              "</table>"
            ],
            "text/plain": [
              "<IPython.core.display.HTML object>"
            ]
          },
          "metadata": {
            "tags": []
          }
        }
      ]
    },
    {
      "cell_type": "code",
      "metadata": {
        "id": "4XGSJYocSSgJ",
        "colab_type": "code",
        "outputId": "6b76e831-8bf5-4051-f93f-8f397672a873",
        "colab": {
          "base_uri": "https://localhost:8080/",
          "height": 79
        }
      },
      "source": [
        "learn_clas_local.freeze_to(-3)\n",
        "best_clf_lr_local /= 2\n",
        "learn_clas_local.fit_one_cycle(1, slice(best_clf_lr_local/(2.6**4),best_clf_lr_local), moms=(0.8,0.7), wd=0.1)"
      ],
      "execution_count": 0,
      "outputs": [
        {
          "output_type": "display_data",
          "data": {
            "text/html": [
              "<table border=\"1\" class=\"dataframe\">\n",
              "  <thead>\n",
              "    <tr style=\"text-align: left;\">\n",
              "      <th>epoch</th>\n",
              "      <th>train_loss</th>\n",
              "      <th>valid_loss</th>\n",
              "      <th>accuracy</th>\n",
              "      <th>time</th>\n",
              "    </tr>\n",
              "  </thead>\n",
              "  <tbody>\n",
              "    <tr>\n",
              "      <td>0</td>\n",
              "      <td>0.435292</td>\n",
              "      <td>0.659859</td>\n",
              "      <td>0.606557</td>\n",
              "      <td>00:00</td>\n",
              "    </tr>\n",
              "  </tbody>\n",
              "</table>"
            ],
            "text/plain": [
              "<IPython.core.display.HTML object>"
            ]
          },
          "metadata": {
            "tags": []
          }
        }
      ]
    },
    {
      "cell_type": "code",
      "metadata": {
        "id": "xPiCNLajSVwV",
        "colab_type": "code",
        "outputId": "7e5fe5ff-f6f6-474c-ad31-abe100be85ac",
        "colab": {
          "base_uri": "https://localhost:8080/",
          "height": 79
        }
      },
      "source": [
        "learn_clas_local.unfreeze()\n",
        "best_clf_lr_local /= 5\n",
        "learn_clas_local.fit_one_cycle(1, slice(best_clf_lr_local/(2.6**4),best_clf_lr_local), moms=(0.8,0.7), wd=0.1)"
      ],
      "execution_count": 0,
      "outputs": [
        {
          "output_type": "display_data",
          "data": {
            "text/html": [
              "<table border=\"1\" class=\"dataframe\">\n",
              "  <thead>\n",
              "    <tr style=\"text-align: left;\">\n",
              "      <th>epoch</th>\n",
              "      <th>train_loss</th>\n",
              "      <th>valid_loss</th>\n",
              "      <th>accuracy</th>\n",
              "      <th>time</th>\n",
              "    </tr>\n",
              "  </thead>\n",
              "  <tbody>\n",
              "    <tr>\n",
              "      <td>0</td>\n",
              "      <td>0.401153</td>\n",
              "      <td>0.658436</td>\n",
              "      <td>0.639344</td>\n",
              "      <td>00:00</td>\n",
              "    </tr>\n",
              "  </tbody>\n",
              "</table>"
            ],
            "text/plain": [
              "<IPython.core.display.HTML object>"
            ]
          },
          "metadata": {
            "tags": []
          }
        }
      ]
    },
    {
      "cell_type": "code",
      "metadata": {
        "id": "NWAKwsTaSZBA",
        "colab_type": "code",
        "colab": {}
      },
      "source": [
        "learn_clas_local.save('fwd_clas')"
      ],
      "execution_count": 0,
      "outputs": []
    },
    {
      "cell_type": "code",
      "metadata": {
        "id": "lo6X04dXScwY",
        "colab_type": "code",
        "outputId": "4f1cbe17-beca-4966-c273-06efc5c3a8de",
        "colab": {
          "base_uri": "https://localhost:8080/",
          "height": 311
        }
      },
      "source": [
        "preds,y,losses = learn_clas_local.get_preds(with_loss=True)\n",
        "interp = ClassificationInterpretation(learn_clas_local, preds, y, losses)\n",
        "interp.plot_confusion_matrix()"
      ],
      "execution_count": 0,
      "outputs": [
        {
          "output_type": "display_data",
          "data": {
            "text/html": [
              ""
            ],
            "text/plain": [
              "<IPython.core.display.HTML object>"
            ]
          },
          "metadata": {
            "tags": []
          }
        },
        {
          "output_type": "display_data",
          "data": {
            "image/png": "[encoded data removed]",
            "text/plain": [
              "<Figure size 432x288 with 1 Axes>"
            ]
          },
          "metadata": {
            "tags": [],
            "needs_background": "light"
          }
        }
      ]
    },
    {
      "cell_type": "code",
      "metadata": {
        "id": "9KaTkzi5S9a4",
        "colab_type": "code",
        "outputId": "d10512df-8c04-4f7c-a1f6-7ddd6d2c4c52",
        "colab": {
          "base_uri": "https://localhost:8080/",
          "height": 1000
        }
      },
      "source": [
        "learn_clas_local_bwd = text_classifier_learner(data_clas_local, AWD_LSTM, drop_mult=0.5, pretrained=False)\n",
        "learn_clas_local_bwd.load_encoder('bwd_enc')"
      ],
      "execution_count": 0,
      "outputs": [
        {
          "output_type": "execute_result",
          "data": {
            "text/plain": [
              "RNNLearner(data=TextClasDataBunch;\n",
              "\n",
              "Train: LabelList (239 items)\n",
              "x: TextList\n",
              "xxbos xxmaj she video it to find any possibility to win xxunk xxunk xxunk so stupid to use such skill and waste of everyone time at this moment xxunk,xxbos xxmaj must put on mask when talking and taking video la xxunk xxunk xxmaj we do not see anyone smoking in this video la xxunk,xxbos i xxmaj am christian but the sex xxmaj is xxmaj so good xxunk,xxbos xxunk erm xxunk you do not sound like you have a problem xxunk so why are you posting here xxunk xxmaj or my reading comprehension fail xxunk xxunk,xxbos xxmaj foreign xxmaj workers got infected totally due to fault of locals xxunk xxmaj these workers got infected due to careless behaviour of locals xxunk\n",
              "y: CategoryList\n",
              "1,1,1,1,0\n",
              "Path: .;\n",
              "\n",
              "Valid: LabelList (61 items)\n",
              "x: TextList\n",
              "xxbos xxmaj err f off la xxunk xxmaj nobody need u to comment,xxbos xxmaj like an entitled whore xxunk xxmaj all these xxmaj generals want to show good xxunk so that can pay millions to themselves xxunk xxmaj xxunk xxunk xxunk,xxbos really xxunk max,xxbos just bunch of loser in xxup real xxup life xxunk online try to be smart xxunk actually is self owned xxunk go xxup csi xxunk google etc people info,xxbos xxmaj improve on yourself xxunk xxmaj buy some new makeup xxunk change your room xxunk or buy a new candle or scent or start to learn cooking xxunk xxmaj anything to make yourself feel better xxunk xxmaj small simple changes give you time to register what have happened and reflect xxunk xxmaj take your time and heal xxunk\n",
              "y: CategoryList\n",
              "1,1,0,1,0\n",
              "Path: .;\n",
              "\n",
              "Test: None, model=SequentialRNN(\n",
              "  (0): MultiBatchEncoder(\n",
              "    (module): AWD_LSTM(\n",
              "      (encoder): Embedding(60000, 400, padding_idx=1)\n",
              "      (encoder_dp): EmbeddingDropout(\n",
              "        (emb): Embedding(60000, 400, padding_idx=1)\n",
              "      )\n",
              "      (rnns): ModuleList(\n",
              "        (0): WeightDropout(\n",
              "          (module): LSTM(400, 1152, batch_first=True)\n",
              "        )\n",
              "        (1): WeightDropout(\n",
              "          (module): LSTM(1152, 1152, batch_first=True)\n",
              "        )\n",
              "        (2): WeightDropout(\n",
              "          (module): LSTM(1152, 400, batch_first=True)\n",
              "        )\n",
              "      )\n",
              "      (input_dp): RNNDropout()\n",
              "      (hidden_dps): ModuleList(\n",
              "        (0): RNNDropout()\n",
              "        (1): RNNDropout()\n",
              "        (2): RNNDropout()\n",
              "      )\n",
              "    )\n",
              "  )\n",
              "  (1): PoolingLinearClassifier(\n",
              "    (layers): Sequential(\n",
              "      (0): BatchNorm1d(1200, eps=1e-05, momentum=0.1, affine=True, track_running_stats=True)\n",
              "      (1): Dropout(p=0.2, inplace=False)\n",
              "      (2): Linear(in_features=1200, out_features=50, bias=True)\n",
              "      (3): ReLU(inplace=True)\n",
              "      (4): BatchNorm1d(50, eps=1e-05, momentum=0.1, affine=True, track_running_stats=True)\n",
              "      (5): Dropout(p=0.1, inplace=False)\n",
              "      (6): Linear(in_features=50, out_features=2, bias=True)\n",
              "    )\n",
              "  )\n",
              "), opt_func=functools.partial(<class 'torch.optim.adam.Adam'>, betas=(0.9, 0.99)), loss_func=FlattenedLoss of CrossEntropyLoss(), metrics=[<function accuracy at 0x7f2650abfa60>], true_wd=True, bn_wd=True, wd=0.01, train_bn=True, path=PosixPath('.'), model_dir='models', callback_fns=[functools.partial(<class 'fastai.basic_train.Recorder'>, add_time=True, silent=False)], callbacks=[RNNTrainer\n",
              "learn: RNNLearner(data=TextClasDataBunch;\n",
              "\n",
              "Train: LabelList (239 items)\n",
              "x: TextList\n",
              "xxbos xxmaj she video it to find any possibility to win xxunk xxunk xxunk so stupid to use such skill and waste of everyone time at this moment xxunk,xxbos xxmaj must put on mask when talking and taking video la xxunk xxunk xxmaj we do not see anyone smoking in this video la xxunk,xxbos i xxmaj am christian but the sex xxmaj is xxmaj so good xxunk,xxbos xxunk erm xxunk you do not sound like you have a problem xxunk so why are you posting here xxunk xxmaj or my reading comprehension fail xxunk xxunk,xxbos xxmaj foreign xxmaj workers got infected totally due to fault of locals xxunk xxmaj these workers got infected due to careless behaviour of locals xxunk\n",
              "y: CategoryList\n",
              "1,1,1,1,0\n",
              "Path: .;\n",
              "\n",
              "Valid: LabelList (61 items)\n",
              "x: TextList\n",
              "xxbos xxmaj err f off la xxunk xxmaj nobody need u to comment,xxbos xxmaj like an entitled whore xxunk xxmaj all these xxmaj generals want to show good xxunk so that can pay millions to themselves xxunk xxmaj xxunk xxunk xxunk,xxbos really xxunk max,xxbos just bunch of loser in xxup real xxup life xxunk online try to be smart xxunk actually is self owned xxunk go xxup csi xxunk google etc people info,xxbos xxmaj improve on yourself xxunk xxmaj buy some new makeup xxunk change your room xxunk or buy a new candle or scent or start to learn cooking xxunk xxmaj anything to make yourself feel better xxunk xxmaj small simple changes give you time to register what have happened and reflect xxunk xxmaj take your time and heal xxunk\n",
              "y: CategoryList\n",
              "1,1,0,1,0\n",
              "Path: .;\n",
              "\n",
              "Test: None, model=SequentialRNN(\n",
              "  (0): MultiBatchEncoder(\n",
              "    (module): AWD_LSTM(\n",
              "      (encoder): Embedding(60000, 400, padding_idx=1)\n",
              "      (encoder_dp): EmbeddingDropout(\n",
              "        (emb): Embedding(60000, 400, padding_idx=1)\n",
              "      )\n",
              "      (rnns): ModuleList(\n",
              "        (0): WeightDropout(\n",
              "          (module): LSTM(400, 1152, batch_first=True)\n",
              "        )\n",
              "        (1): WeightDropout(\n",
              "          (module): LSTM(1152, 1152, batch_first=True)\n",
              "        )\n",
              "        (2): WeightDropout(\n",
              "          (module): LSTM(1152, 400, batch_first=True)\n",
              "        )\n",
              "      )\n",
              "      (input_dp): RNNDropout()\n",
              "      (hidden_dps): ModuleList(\n",
              "        (0): RNNDropout()\n",
              "        (1): RNNDropout()\n",
              "        (2): RNNDropout()\n",
              "      )\n",
              "    )\n",
              "  )\n",
              "  (1): PoolingLinearClassifier(\n",
              "    (layers): Sequential(\n",
              "      (0): BatchNorm1d(1200, eps=1e-05, momentum=0.1, affine=True, track_running_stats=True)\n",
              "      (1): Dropout(p=0.2, inplace=False)\n",
              "      (2): Linear(in_features=1200, out_features=50, bias=True)\n",
              "      (3): ReLU(inplace=True)\n",
              "      (4): BatchNorm1d(50, eps=1e-05, momentum=0.1, affine=True, track_running_stats=True)\n",
              "      (5): Dropout(p=0.1, inplace=False)\n",
              "      (6): Linear(in_features=50, out_features=2, bias=True)\n",
              "    )\n",
              "  )\n",
              "), opt_func=functools.partial(<class 'torch.optim.adam.Adam'>, betas=(0.9, 0.99)), loss_func=FlattenedLoss of CrossEntropyLoss(), metrics=[<function accuracy at 0x7f2650abfa60>], true_wd=True, bn_wd=True, wd=0.01, train_bn=True, path=PosixPath('.'), model_dir='models', callback_fns=[functools.partial(<class 'fastai.basic_train.Recorder'>, add_time=True, silent=False)], callbacks=[...], layer_groups=[Sequential(\n",
              "  (0): Embedding(60000, 400, padding_idx=1)\n",
              "  (1): EmbeddingDropout(\n",
              "    (emb): Embedding(60000, 400, padding_idx=1)\n",
              "  )\n",
              "), Sequential(\n",
              "  (0): WeightDropout(\n",
              "    (module): LSTM(400, 1152, batch_first=True)\n",
              "  )\n",
              "  (1): RNNDropout()\n",
              "), Sequential(\n",
              "  (0): WeightDropout(\n",
              "    (module): LSTM(1152, 1152, batch_first=True)\n",
              "  )\n",
              "  (1): RNNDropout()\n",
              "), Sequential(\n",
              "  (0): WeightDropout(\n",
              "    (module): LSTM(1152, 400, batch_first=True)\n",
              "  )\n",
              "  (1): RNNDropout()\n",
              "), Sequential(\n",
              "  (0): PoolingLinearClassifier(\n",
              "    (layers): Sequential(\n",
              "      (0): BatchNorm1d(1200, eps=1e-05, momentum=0.1, affine=True, track_running_stats=True)\n",
              "      (1): Dropout(p=0.2, inplace=False)\n",
              "      (2): Linear(in_features=1200, out_features=50, bias=True)\n",
              "      (3): ReLU(inplace=True)\n",
              "      (4): BatchNorm1d(50, eps=1e-05, momentum=0.1, affine=True, track_running_stats=True)\n",
              "      (5): Dropout(p=0.1, inplace=False)\n",
              "      (6): Linear(in_features=50, out_features=2, bias=True)\n",
              "    )\n",
              "  )\n",
              ")], add_time=True, silent=False)\n",
              "alpha: 2.0\n",
              "beta: 1.0], layer_groups=[Sequential(\n",
              "  (0): Embedding(60000, 400, padding_idx=1)\n",
              "  (1): EmbeddingDropout(\n",
              "    (emb): Embedding(60000, 400, padding_idx=1)\n",
              "  )\n",
              "), Sequential(\n",
              "  (0): WeightDropout(\n",
              "    (module): LSTM(400, 1152, batch_first=True)\n",
              "  )\n",
              "  (1): RNNDropout()\n",
              "), Sequential(\n",
              "  (0): WeightDropout(\n",
              "    (module): LSTM(1152, 1152, batch_first=True)\n",
              "  )\n",
              "  (1): RNNDropout()\n",
              "), Sequential(\n",
              "  (0): WeightDropout(\n",
              "    (module): LSTM(1152, 400, batch_first=True)\n",
              "  )\n",
              "  (1): RNNDropout()\n",
              "), Sequential(\n",
              "  (0): PoolingLinearClassifier(\n",
              "    (layers): Sequential(\n",
              "      (0): BatchNorm1d(1200, eps=1e-05, momentum=0.1, affine=True, track_running_stats=True)\n",
              "      (1): Dropout(p=0.2, inplace=False)\n",
              "      (2): Linear(in_features=1200, out_features=50, bias=True)\n",
              "      (3): ReLU(inplace=True)\n",
              "      (4): BatchNorm1d(50, eps=1e-05, momentum=0.1, affine=True, track_running_stats=True)\n",
              "      (5): Dropout(p=0.1, inplace=False)\n",
              "      (6): Linear(in_features=50, out_features=2, bias=True)\n",
              "    )\n",
              "  )\n",
              ")], add_time=True, silent=False)"
            ]
          },
          "metadata": {
            "tags": []
          },
          "execution_count": 55
        }
      ]
    },
    {
      "cell_type": "code",
      "metadata": {
        "id": "zkOm1BMcS904",
        "colab_type": "code",
        "outputId": "cd3be9d8-d669-4ca6-e658-934da37592c9",
        "colab": {
          "base_uri": "https://localhost:8080/",
          "height": 79
        }
      },
      "source": [
        "learn_clas_local_bwd.fit_one_cycle(1, best_clf_lr_local, moms=(0.8,0.7), wd=0.1)"
      ],
      "execution_count": 0,
      "outputs": [
        {
          "output_type": "display_data",
          "data": {
            "text/html": [
              "<table border=\"1\" class=\"dataframe\">\n",
              "  <thead>\n",
              "    <tr style=\"text-align: left;\">\n",
              "      <th>epoch</th>\n",
              "      <th>train_loss</th>\n",
              "      <th>valid_loss</th>\n",
              "      <th>accuracy</th>\n",
              "      <th>time</th>\n",
              "    </tr>\n",
              "  </thead>\n",
              "  <tbody>\n",
              "    <tr>\n",
              "      <td>0</td>\n",
              "      <td>0.811737</td>\n",
              "      <td>0.717934</td>\n",
              "      <td>0.459016</td>\n",
              "      <td>00:00</td>\n",
              "    </tr>\n",
              "  </tbody>\n",
              "</table>"
            ],
            "text/plain": [
              "<IPython.core.display.HTML object>"
            ]
          },
          "metadata": {
            "tags": []
          }
        }
      ]
    },
    {
      "cell_type": "code",
      "metadata": {
        "id": "FOupjVCVTDTh",
        "colab_type": "code",
        "outputId": "7ad2347f-7bcb-4f74-cb73-37b4f084f790",
        "colab": {
          "base_uri": "https://localhost:8080/",
          "height": 79
        }
      },
      "source": [
        "learn_clas_local_bwd.freeze_to(-2)\n",
        "best_clf_lr_local /= 2\n",
        "learn_clas_local_bwd.fit_one_cycle(1, slice(best_clf_lr_local/(2.6**4),best_clf_lr_local), moms=(0.8,0.7), wd=0.1)"
      ],
      "execution_count": 0,
      "outputs": [
        {
          "output_type": "display_data",
          "data": {
            "text/html": [
              "<table border=\"1\" class=\"dataframe\">\n",
              "  <thead>\n",
              "    <tr style=\"text-align: left;\">\n",
              "      <th>epoch</th>\n",
              "      <th>train_loss</th>\n",
              "      <th>valid_loss</th>\n",
              "      <th>accuracy</th>\n",
              "      <th>time</th>\n",
              "    </tr>\n",
              "  </thead>\n",
              "  <tbody>\n",
              "    <tr>\n",
              "      <td>0</td>\n",
              "      <td>0.765353</td>\n",
              "      <td>0.757650</td>\n",
              "      <td>0.459016</td>\n",
              "      <td>00:00</td>\n",
              "    </tr>\n",
              "  </tbody>\n",
              "</table>"
            ],
            "text/plain": [
              "<IPython.core.display.HTML object>"
            ]
          },
          "metadata": {
            "tags": []
          }
        }
      ]
    },
    {
      "cell_type": "code",
      "metadata": {
        "id": "cgFrXN59TFQ2",
        "colab_type": "code",
        "outputId": "d536544c-13d8-4312-e99f-6bf7ba04b84c",
        "colab": {
          "base_uri": "https://localhost:8080/",
          "height": 79
        }
      },
      "source": [
        "learn_clas_local_bwd.freeze_to(-3)\n",
        "best_clf_lr_local /= 2\n",
        "learn_clas_local_bwd.fit_one_cycle(1, slice(best_clf_lr_local/(2.6**4),best_clf_lr_local), moms=(0.8,0.7), wd=0.1)"
      ],
      "execution_count": 0,
      "outputs": [
        {
          "output_type": "display_data",
          "data": {
            "text/html": [
              "<table border=\"1\" class=\"dataframe\">\n",
              "  <thead>\n",
              "    <tr style=\"text-align: left;\">\n",
              "      <th>epoch</th>\n",
              "      <th>train_loss</th>\n",
              "      <th>valid_loss</th>\n",
              "      <th>accuracy</th>\n",
              "      <th>time</th>\n",
              "    </tr>\n",
              "  </thead>\n",
              "  <tbody>\n",
              "    <tr>\n",
              "      <td>0</td>\n",
              "      <td>0.736453</td>\n",
              "      <td>0.792628</td>\n",
              "      <td>0.459016</td>\n",
              "      <td>00:00</td>\n",
              "    </tr>\n",
              "  </tbody>\n",
              "</table>"
            ],
            "text/plain": [
              "<IPython.core.display.HTML object>"
            ]
          },
          "metadata": {
            "tags": []
          }
        }
      ]
    },
    {
      "cell_type": "code",
      "metadata": {
        "id": "Xa7mky4_THF8",
        "colab_type": "code",
        "outputId": "3ca845cd-9a54-4606-fcfe-ed9399a04648",
        "colab": {
          "base_uri": "https://localhost:8080/",
          "height": 79
        }
      },
      "source": [
        "learn_clas_local_bwd.unfreeze()\n",
        "best_clf_lr_local /= 5\n",
        "learn_clas_local_bwd.fit_one_cycle(1, slice(best_clf_lr_local/(2.6**4),best_clf_lr_local), moms=(0.8,0.7), wd=0.1)"
      ],
      "execution_count": 0,
      "outputs": [
        {
          "output_type": "display_data",
          "data": {
            "text/html": [
              "<table border=\"1\" class=\"dataframe\">\n",
              "  <thead>\n",
              "    <tr style=\"text-align: left;\">\n",
              "      <th>epoch</th>\n",
              "      <th>train_loss</th>\n",
              "      <th>valid_loss</th>\n",
              "      <th>accuracy</th>\n",
              "      <th>time</th>\n",
              "    </tr>\n",
              "  </thead>\n",
              "  <tbody>\n",
              "    <tr>\n",
              "      <td>0</td>\n",
              "      <td>0.695739</td>\n",
              "      <td>0.805667</td>\n",
              "      <td>0.459016</td>\n",
              "      <td>00:00</td>\n",
              "    </tr>\n",
              "  </tbody>\n",
              "</table>"
            ],
            "text/plain": [
              "<IPython.core.display.HTML object>"
            ]
          },
          "metadata": {
            "tags": []
          }
        }
      ]
    },
    {
      "cell_type": "code",
      "metadata": {
        "id": "i9h2VIP4THum",
        "colab_type": "code",
        "colab": {}
      },
      "source": [
        "learn_clas_local_bwd.save('bwd_clas')"
      ],
      "execution_count": 0,
      "outputs": []
    },
    {
      "cell_type": "markdown",
      "metadata": {
        "id": "J8Q22vZbZIr5",
        "colab_type": "text"
      },
      "source": [
        "##Analyse the Results"
      ]
    },
    {
      "cell_type": "code",
      "metadata": {
        "id": "whH-2qNATJep",
        "colab_type": "code",
        "outputId": "601e2a89-d2ba-4fc0-d148-3858883bb6c7",
        "colab": {
          "base_uri": "https://localhost:8080/",
          "height": 311
        }
      },
      "source": [
        "preds,y,losses = learn_clas_local_bwd.get_preds(with_loss=True)\n",
        "interp = ClassificationInterpretation(learn_clas_local_bwd, preds, y, losses)\n",
        "interp.plot_confusion_matrix()"
      ],
      "execution_count": 0,
      "outputs": [
        {
          "output_type": "display_data",
          "data": {
            "text/html": [
              ""
            ],
            "text/plain": [
              "<IPython.core.display.HTML object>"
            ]
          },
          "metadata": {
            "tags": []
          }
        },
        {
          "output_type": "display_data",
          "data": {
            "image/png": "[encoded data removed]",
            "text/plain": [
              "<Figure size 432x288 with 1 Axes>"
            ]
          },
          "metadata": {
            "tags": [],
            "needs_background": "light"
          }
        }
      ]
    },
    {
      "cell_type": "code",
      "metadata": {
        "id": "l7ir1WN7TORA",
        "colab_type": "code",
        "outputId": "5339d510-25dd-47c4-bf55-5830f20e28b9",
        "colab": {
          "base_uri": "https://localhost:8080/",
          "height": 17
        }
      },
      "source": [
        "pred_fwd,lbl_fwd = learn_clas_local.get_preds(ordered=True)"
      ],
      "execution_count": 0,
      "outputs": [
        {
          "output_type": "display_data",
          "data": {
            "text/html": [
              ""
            ],
            "text/plain": [
              "<IPython.core.display.HTML object>"
            ]
          },
          "metadata": {
            "tags": []
          }
        }
      ]
    },
    {
      "cell_type": "code",
      "metadata": {
        "id": "q_Qc3L4wTQwQ",
        "colab_type": "code",
        "outputId": "beda19ec-c391-48db-a183-32d9183b95ed",
        "colab": {
          "base_uri": "https://localhost:8080/",
          "height": 17
        }
      },
      "source": [
        "pred_bwd,lbl_bwd = learn_clas_local_bwd.get_preds(ordered=True)"
      ],
      "execution_count": 0,
      "outputs": [
        {
          "output_type": "display_data",
          "data": {
            "text/html": [
              ""
            ],
            "text/plain": [
              "<IPython.core.display.HTML object>"
            ]
          },
          "metadata": {
            "tags": []
          }
        }
      ]
    },
    {
      "cell_type": "code",
      "metadata": {
        "id": "xzdS6cFsTRMi",
        "colab_type": "code",
        "colab": {}
      },
      "source": [
        "final_pred = (pred_fwd+pred_bwd)/2"
      ],
      "execution_count": 0,
      "outputs": []
    },
    {
      "cell_type": "code",
      "metadata": {
        "id": "amUfA9qM0h1s",
        "colab_type": "code",
        "outputId": "5f6d2860-6896-43c6-a565-21b88b516146",
        "colab": {
          "base_uri": "https://localhost:8080/",
          "height": 35
        }
      },
      "source": [
        "accuracy(final_pred, lbl_fwd)"
      ],
      "execution_count": 0,
      "outputs": [
        {
          "output_type": "execute_result",
          "data": {
            "text/plain": [
              "tensor(0.4918)"
            ]
          },
          "metadata": {
            "tags": []
          },
          "execution_count": 65
        }
      ]
    },
    {
      "cell_type": "code",
      "metadata": {
        "id": "bqlwAnbo3XmJ",
        "colab_type": "code",
        "outputId": "5b5be145-fbc2-4964-ffaa-ce72dae1a5f0",
        "colab": {
          "base_uri": "https://localhost:8080/",
          "height": 35
        }
      },
      "source": [
        "accuracy(final_pred, lbl_bwd)"
      ],
      "execution_count": 0,
      "outputs": [
        {
          "output_type": "execute_result",
          "data": {
            "text/plain": [
              "tensor(0.4918)"
            ]
          },
          "metadata": {
            "tags": []
          },
          "execution_count": 66
        }
      ]
    },
    {
      "cell_type": "code",
      "metadata": {
        "id": "rRr0zj6h6iH4",
        "colab_type": "code",
        "outputId": "898be86e-9038-42be-db7f-bbcbf9a83e7d",
        "colab": {
          "base_uri": "https://localhost:8080/",
          "height": 35
        }
      },
      "source": [
        "learn_clas_local.predict(\"fuck you chee bai\")"
      ],
      "execution_count": 0,
      "outputs": [
        {
          "output_type": "execute_result",
          "data": {
            "text/plain": [
              "(Category 1, tensor(1), tensor([0.1858, 0.8142]))"
            ]
          },
          "metadata": {
            "tags": []
          },
          "execution_count": 67
        }
      ]
    },
    {
      "cell_type": "code",
      "metadata": {
        "id": "WoQm3bJ36lQ1",
        "colab_type": "code",
        "outputId": "d3bace57-ae49-4b09-e3f3-cfc48576e81a",
        "colab": {
          "base_uri": "https://localhost:8080/",
          "height": 35
        }
      },
      "source": [
        "learn_clas_local.predict(\"i hope you jump off the cliff and die\")"
      ],
      "execution_count": 0,
      "outputs": [
        {
          "output_type": "execute_result",
          "data": {
            "text/plain": [
              "(Category 1, tensor(1), tensor([0.1751, 0.8249]))"
            ]
          },
          "metadata": {
            "tags": []
          },
          "execution_count": 68
        }
      ]
    },
    {
      "cell_type": "code",
      "metadata": {
        "id": "GOkSGzKL7C1x",
        "colab_type": "code",
        "outputId": "cd5a7a64-88d8-492b-ed1c-b6dd242e5925",
        "colab": {
          "base_uri": "https://localhost:8080/",
          "height": 35
        }
      },
      "source": [
        "learn_clas_local.predict(\"i hope you have a good day!\")"
      ],
      "execution_count": 0,
      "outputs": [
        {
          "output_type": "execute_result",
          "data": {
            "text/plain": [
              "(Category 1, tensor(1), tensor([0.4281, 0.5719]))"
            ]
          },
          "metadata": {
            "tags": []
          },
          "execution_count": 69
        }
      ]
    },
    {
      "cell_type": "code",
      "metadata": {
        "id": "Wlp1Kd-47OTc",
        "colab_type": "code",
        "outputId": "5e2a983f-00fe-4350-88b6-3b92302432a0",
        "colab": {
          "base_uri": "https://localhost:8080/",
          "height": 35
        }
      },
      "source": [
        "learn_clas_local.predict(\"kanasai\")"
      ],
      "execution_count": 0,
      "outputs": [
        {
          "output_type": "execute_result",
          "data": {
            "text/plain": [
              "(Category 1, tensor(1), tensor([0.4071, 0.5929]))"
            ]
          },
          "metadata": {
            "tags": []
          },
          "execution_count": 70
        }
      ]
    },
    {
      "cell_type": "code",
      "metadata": {
        "id": "cCVSeWxQ7QBr",
        "colab_type": "code",
        "outputId": "966d042d-e7ab-4e9d-8579-1e61f01f5774",
        "colab": {
          "base_uri": "https://localhost:8080/",
          "height": 35
        }
      },
      "source": [
        "recall(final_pred, lbl_fwd)"
      ],
      "execution_count": 0,
      "outputs": [
        {
          "output_type": "stream",
          "text": [
            "Couldn't evaluate or find in history: (final_pred, lbl_fwd)\n"
          ],
          "name": "stdout"
        }
      ]
    },
    {
      "cell_type": "code",
      "metadata": {
        "id": "CkZEWGywOqMp",
        "colab_type": "code",
        "outputId": "0f0a7bdd-31f1-4bf1-deee-3f89b56532a4",
        "colab": {
          "base_uri": "https://localhost:8080/",
          "height": 35
        }
      },
      "source": [
        "accuracy(final_pred, lbl_bwd)"
      ],
      "execution_count": 0,
      "outputs": [
        {
          "output_type": "execute_result",
          "data": {
            "text/plain": [
              "tensor(0.4918)"
            ]
          },
          "metadata": {
            "tags": []
          },
          "execution_count": 72
        }
      ]
    },
    {
      "cell_type": "code",
      "metadata": {
        "id": "0gQz7BzqOvTE",
        "colab_type": "code",
        "outputId": "296978f0-a5ba-4ce0-f855-a0fdedef6495",
        "colab": {
          "base_uri": "https://localhost:8080/",
          "height": 1000
        }
      },
      "source": [
        "learn_clas_local_bwd1 = text_classifier_learner(data_clas_local, AWD_LSTM, drop_mult=0.5, pretrained=False)\n",
        "learn_clas_local_bwd1.load_encoder('bwd_enc')"
      ],
      "execution_count": 0,
      "outputs": [
        {
          "output_type": "execute_result",
          "data": {
            "text/plain": [
              "RNNLearner(data=TextClasDataBunch;\n",
              "\n",
              "Train: LabelList (239 items)\n",
              "x: TextList\n",
              "xxbos xxmaj she video it to find any possibility to win xxunk xxunk xxunk so stupid to use such skill and waste of everyone time at this moment xxunk,xxbos xxmaj must put on mask when talking and taking video la xxunk xxunk xxmaj we do not see anyone smoking in this video la xxunk,xxbos i xxmaj am christian but the sex xxmaj is xxmaj so good xxunk,xxbos xxunk erm xxunk you do not sound like you have a problem xxunk so why are you posting here xxunk xxmaj or my reading comprehension fail xxunk xxunk,xxbos xxmaj foreign xxmaj workers got infected totally due to fault of locals xxunk xxmaj these workers got infected due to careless behaviour of locals xxunk\n",
              "y: CategoryList\n",
              "1,1,1,1,0\n",
              "Path: .;\n",
              "\n",
              "Valid: LabelList (61 items)\n",
              "x: TextList\n",
              "xxbos xxmaj err f off la xxunk xxmaj nobody need u to comment,xxbos xxmaj like an entitled whore xxunk xxmaj all these xxmaj generals want to show good xxunk so that can pay millions to themselves xxunk xxmaj xxunk xxunk xxunk,xxbos really xxunk max,xxbos just bunch of loser in xxup real xxup life xxunk online try to be smart xxunk actually is self owned xxunk go xxup csi xxunk google etc people info,xxbos xxmaj improve on yourself xxunk xxmaj buy some new makeup xxunk change your room xxunk or buy a new candle or scent or start to learn cooking xxunk xxmaj anything to make yourself feel better xxunk xxmaj small simple changes give you time to register what have happened and reflect xxunk xxmaj take your time and heal xxunk\n",
              "y: CategoryList\n",
              "1,1,0,1,0\n",
              "Path: .;\n",
              "\n",
              "Test: None, model=SequentialRNN(\n",
              "  (0): MultiBatchEncoder(\n",
              "    (module): AWD_LSTM(\n",
              "      (encoder): Embedding(60000, 400, padding_idx=1)\n",
              "      (encoder_dp): EmbeddingDropout(\n",
              "        (emb): Embedding(60000, 400, padding_idx=1)\n",
              "      )\n",
              "      (rnns): ModuleList(\n",
              "        (0): WeightDropout(\n",
              "          (module): LSTM(400, 1152, batch_first=True)\n",
              "        )\n",
              "        (1): WeightDropout(\n",
              "          (module): LSTM(1152, 1152, batch_first=True)\n",
              "        )\n",
              "        (2): WeightDropout(\n",
              "          (module): LSTM(1152, 400, batch_first=True)\n",
              "        )\n",
              "      )\n",
              "      (input_dp): RNNDropout()\n",
              "      (hidden_dps): ModuleList(\n",
              "        (0): RNNDropout()\n",
              "        (1): RNNDropout()\n",
              "        (2): RNNDropout()\n",
              "      )\n",
              "    )\n",
              "  )\n",
              "  (1): PoolingLinearClassifier(\n",
              "    (layers): Sequential(\n",
              "      (0): BatchNorm1d(1200, eps=1e-05, momentum=0.1, affine=True, track_running_stats=True)\n",
              "      (1): Dropout(p=0.2, inplace=False)\n",
              "      (2): Linear(in_features=1200, out_features=50, bias=True)\n",
              "      (3): ReLU(inplace=True)\n",
              "      (4): BatchNorm1d(50, eps=1e-05, momentum=0.1, affine=True, track_running_stats=True)\n",
              "      (5): Dropout(p=0.1, inplace=False)\n",
              "      (6): Linear(in_features=50, out_features=2, bias=True)\n",
              "    )\n",
              "  )\n",
              "), opt_func=functools.partial(<class 'torch.optim.adam.Adam'>, betas=(0.9, 0.99)), loss_func=FlattenedLoss of CrossEntropyLoss(), metrics=[<function accuracy at 0x7f2650abfa60>], true_wd=True, bn_wd=True, wd=0.01, train_bn=True, path=PosixPath('.'), model_dir='models', callback_fns=[functools.partial(<class 'fastai.basic_train.Recorder'>, add_time=True, silent=False)], callbacks=[RNNTrainer\n",
              "learn: RNNLearner(data=TextClasDataBunch;\n",
              "\n",
              "Train: LabelList (239 items)\n",
              "x: TextList\n",
              "xxbos xxmaj she video it to find any possibility to win xxunk xxunk xxunk so stupid to use such skill and waste of everyone time at this moment xxunk,xxbos xxmaj must put on mask when talking and taking video la xxunk xxunk xxmaj we do not see anyone smoking in this video la xxunk,xxbos i xxmaj am christian but the sex xxmaj is xxmaj so good xxunk,xxbos xxunk erm xxunk you do not sound like you have a problem xxunk so why are you posting here xxunk xxmaj or my reading comprehension fail xxunk xxunk,xxbos xxmaj foreign xxmaj workers got infected totally due to fault of locals xxunk xxmaj these workers got infected due to careless behaviour of locals xxunk\n",
              "y: CategoryList\n",
              "1,1,1,1,0\n",
              "Path: .;\n",
              "\n",
              "Valid: LabelList (61 items)\n",
              "x: TextList\n",
              "xxbos xxmaj err f off la xxunk xxmaj nobody need u to comment,xxbos xxmaj like an entitled whore xxunk xxmaj all these xxmaj generals want to show good xxunk so that can pay millions to themselves xxunk xxmaj xxunk xxunk xxunk,xxbos really xxunk max,xxbos just bunch of loser in xxup real xxup life xxunk online try to be smart xxunk actually is self owned xxunk go xxup csi xxunk google etc people info,xxbos xxmaj improve on yourself xxunk xxmaj buy some new makeup xxunk change your room xxunk or buy a new candle or scent or start to learn cooking xxunk xxmaj anything to make yourself feel better xxunk xxmaj small simple changes give you time to register what have happened and reflect xxunk xxmaj take your time and heal xxunk\n",
              "y: CategoryList\n",
              "1,1,0,1,0\n",
              "Path: .;\n",
              "\n",
              "Test: None, model=SequentialRNN(\n",
              "  (0): MultiBatchEncoder(\n",
              "    (module): AWD_LSTM(\n",
              "      (encoder): Embedding(60000, 400, padding_idx=1)\n",
              "      (encoder_dp): EmbeddingDropout(\n",
              "        (emb): Embedding(60000, 400, padding_idx=1)\n",
              "      )\n",
              "      (rnns): ModuleList(\n",
              "        (0): WeightDropout(\n",
              "          (module): LSTM(400, 1152, batch_first=True)\n",
              "        )\n",
              "        (1): WeightDropout(\n",
              "          (module): LSTM(1152, 1152, batch_first=True)\n",
              "        )\n",
              "        (2): WeightDropout(\n",
              "          (module): LSTM(1152, 400, batch_first=True)\n",
              "        )\n",
              "      )\n",
              "      (input_dp): RNNDropout()\n",
              "      (hidden_dps): ModuleList(\n",
              "        (0): RNNDropout()\n",
              "        (1): RNNDropout()\n",
              "        (2): RNNDropout()\n",
              "      )\n",
              "    )\n",
              "  )\n",
              "  (1): PoolingLinearClassifier(\n",
              "    (layers): Sequential(\n",
              "      (0): BatchNorm1d(1200, eps=1e-05, momentum=0.1, affine=True, track_running_stats=True)\n",
              "      (1): Dropout(p=0.2, inplace=False)\n",
              "      (2): Linear(in_features=1200, out_features=50, bias=True)\n",
              "      (3): ReLU(inplace=True)\n",
              "      (4): BatchNorm1d(50, eps=1e-05, momentum=0.1, affine=True, track_running_stats=True)\n",
              "      (5): Dropout(p=0.1, inplace=False)\n",
              "      (6): Linear(in_features=50, out_features=2, bias=True)\n",
              "    )\n",
              "  )\n",
              "), opt_func=functools.partial(<class 'torch.optim.adam.Adam'>, betas=(0.9, 0.99)), loss_func=FlattenedLoss of CrossEntropyLoss(), metrics=[<function accuracy at 0x7f2650abfa60>], true_wd=True, bn_wd=True, wd=0.01, train_bn=True, path=PosixPath('.'), model_dir='models', callback_fns=[functools.partial(<class 'fastai.basic_train.Recorder'>, add_time=True, silent=False)], callbacks=[...], layer_groups=[Sequential(\n",
              "  (0): Embedding(60000, 400, padding_idx=1)\n",
              "  (1): EmbeddingDropout(\n",
              "    (emb): Embedding(60000, 400, padding_idx=1)\n",
              "  )\n",
              "), Sequential(\n",
              "  (0): WeightDropout(\n",
              "    (module): LSTM(400, 1152, batch_first=True)\n",
              "  )\n",
              "  (1): RNNDropout()\n",
              "), Sequential(\n",
              "  (0): WeightDropout(\n",
              "    (module): LSTM(1152, 1152, batch_first=True)\n",
              "  )\n",
              "  (1): RNNDropout()\n",
              "), Sequential(\n",
              "  (0): WeightDropout(\n",
              "    (module): LSTM(1152, 400, batch_first=True)\n",
              "  )\n",
              "  (1): RNNDropout()\n",
              "), Sequential(\n",
              "  (0): PoolingLinearClassifier(\n",
              "    (layers): Sequential(\n",
              "      (0): BatchNorm1d(1200, eps=1e-05, momentum=0.1, affine=True, track_running_stats=True)\n",
              "      (1): Dropout(p=0.2, inplace=False)\n",
              "      (2): Linear(in_features=1200, out_features=50, bias=True)\n",
              "      (3): ReLU(inplace=True)\n",
              "      (4): BatchNorm1d(50, eps=1e-05, momentum=0.1, affine=True, track_running_stats=True)\n",
              "      (5): Dropout(p=0.1, inplace=False)\n",
              "      (6): Linear(in_features=50, out_features=2, bias=True)\n",
              "    )\n",
              "  )\n",
              ")], add_time=True, silent=False)\n",
              "alpha: 2.0\n",
              "beta: 1.0], layer_groups=[Sequential(\n",
              "  (0): Embedding(60000, 400, padding_idx=1)\n",
              "  (1): EmbeddingDropout(\n",
              "    (emb): Embedding(60000, 400, padding_idx=1)\n",
              "  )\n",
              "), Sequential(\n",
              "  (0): WeightDropout(\n",
              "    (module): LSTM(400, 1152, batch_first=True)\n",
              "  )\n",
              "  (1): RNNDropout()\n",
              "), Sequential(\n",
              "  (0): WeightDropout(\n",
              "    (module): LSTM(1152, 1152, batch_first=True)\n",
              "  )\n",
              "  (1): RNNDropout()\n",
              "), Sequential(\n",
              "  (0): WeightDropout(\n",
              "    (module): LSTM(1152, 400, batch_first=True)\n",
              "  )\n",
              "  (1): RNNDropout()\n",
              "), Sequential(\n",
              "  (0): PoolingLinearClassifier(\n",
              "    (layers): Sequential(\n",
              "      (0): BatchNorm1d(1200, eps=1e-05, momentum=0.1, affine=True, track_running_stats=True)\n",
              "      (1): Dropout(p=0.2, inplace=False)\n",
              "      (2): Linear(in_features=1200, out_features=50, bias=True)\n",
              "      (3): ReLU(inplace=True)\n",
              "      (4): BatchNorm1d(50, eps=1e-05, momentum=0.1, affine=True, track_running_stats=True)\n",
              "      (5): Dropout(p=0.1, inplace=False)\n",
              "      (6): Linear(in_features=50, out_features=2, bias=True)\n",
              "    )\n",
              "  )\n",
              ")], add_time=True, silent=False)"
            ]
          },
          "metadata": {
            "tags": []
          },
          "execution_count": 73
        }
      ]
    },
    {
      "cell_type": "code",
      "metadata": {
        "id": "Oesk_H0ZPTnc",
        "colab_type": "code",
        "outputId": "31faebc4-37fe-49b7-c6a1-084911e4afab",
        "colab": {
          "base_uri": "https://localhost:8080/",
          "height": 79
        }
      },
      "source": [
        "learn_clas_local_bwd1.fit_one_cycle(1, best_clf_lr_local, moms=(0.8,0.7), wd=0.1)"
      ],
      "execution_count": 0,
      "outputs": [
        {
          "output_type": "display_data",
          "data": {
            "text/html": [
              "<table border=\"1\" class=\"dataframe\">\n",
              "  <thead>\n",
              "    <tr style=\"text-align: left;\">\n",
              "      <th>epoch</th>\n",
              "      <th>train_loss</th>\n",
              "      <th>valid_loss</th>\n",
              "      <th>accuracy</th>\n",
              "      <th>time</th>\n",
              "    </tr>\n",
              "  </thead>\n",
              "  <tbody>\n",
              "    <tr>\n",
              "      <td>0</td>\n",
              "      <td>0.766022</td>\n",
              "      <td>0.685138</td>\n",
              "      <td>0.540984</td>\n",
              "      <td>00:00</td>\n",
              "    </tr>\n",
              "  </tbody>\n",
              "</table>"
            ],
            "text/plain": [
              "<IPython.core.display.HTML object>"
            ]
          },
          "metadata": {
            "tags": []
          }
        }
      ]
    },
    {
      "cell_type": "code",
      "metadata": {
        "id": "RliafWQlPUCw",
        "colab_type": "code",
        "outputId": "22b43701-aaf9-4378-984c-88b7de88f262",
        "colab": {
          "base_uri": "https://localhost:8080/",
          "height": 79
        }
      },
      "source": [
        "learn_clas_local_bwd1.freeze_to(-2)\n",
        "best_clf_lr_local /= 2\n",
        "learn_clas_local_bwd1.fit_one_cycle(1, slice(best_clf_lr_local/(2.6**4),best_clf_lr_local), moms=(0.8,0.7), wd=0.1)"
      ],
      "execution_count": 0,
      "outputs": [
        {
          "output_type": "display_data",
          "data": {
            "text/html": [
              "<table border=\"1\" class=\"dataframe\">\n",
              "  <thead>\n",
              "    <tr style=\"text-align: left;\">\n",
              "      <th>epoch</th>\n",
              "      <th>train_loss</th>\n",
              "      <th>valid_loss</th>\n",
              "      <th>accuracy</th>\n",
              "      <th>time</th>\n",
              "    </tr>\n",
              "  </thead>\n",
              "  <tbody>\n",
              "    <tr>\n",
              "      <td>0</td>\n",
              "      <td>0.773216</td>\n",
              "      <td>0.682804</td>\n",
              "      <td>0.540984</td>\n",
              "      <td>00:00</td>\n",
              "    </tr>\n",
              "  </tbody>\n",
              "</table>"
            ],
            "text/plain": [
              "<IPython.core.display.HTML object>"
            ]
          },
          "metadata": {
            "tags": []
          }
        }
      ]
    },
    {
      "cell_type": "code",
      "metadata": {
        "id": "SxkXjOaZPXIX",
        "colab_type": "code",
        "outputId": "8eaa4788-e4e7-408a-dbaa-cc16bd214294",
        "colab": {
          "base_uri": "https://localhost:8080/",
          "height": 79
        }
      },
      "source": [
        "learn_clas_local_bwd1.freeze_to(-3)\n",
        "best_clf_lr_local /= 2\n",
        "learn_clas_local_bwd1.fit_one_cycle(1, slice(best_clf_lr_local/(2.6**4),best_clf_lr_local), moms=(0.8,0.7), wd=0.1)"
      ],
      "execution_count": 0,
      "outputs": [
        {
          "output_type": "display_data",
          "data": {
            "text/html": [
              "<table border=\"1\" class=\"dataframe\">\n",
              "  <thead>\n",
              "    <tr style=\"text-align: left;\">\n",
              "      <th>epoch</th>\n",
              "      <th>train_loss</th>\n",
              "      <th>valid_loss</th>\n",
              "      <th>accuracy</th>\n",
              "      <th>time</th>\n",
              "    </tr>\n",
              "  </thead>\n",
              "  <tbody>\n",
              "    <tr>\n",
              "      <td>0</td>\n",
              "      <td>0.794282</td>\n",
              "      <td>0.678283</td>\n",
              "      <td>0.524590</td>\n",
              "      <td>00:00</td>\n",
              "    </tr>\n",
              "  </tbody>\n",
              "</table>"
            ],
            "text/plain": [
              "<IPython.core.display.HTML object>"
            ]
          },
          "metadata": {
            "tags": []
          }
        }
      ]
    },
    {
      "cell_type": "code",
      "metadata": {
        "id": "JSgTGrSQPa1i",
        "colab_type": "code",
        "outputId": "543a5db5-1f93-499f-dc41-a885765ef485",
        "colab": {
          "base_uri": "https://localhost:8080/",
          "height": 79
        }
      },
      "source": [
        "learn_clas_local_bwd1.unfreeze()\n",
        "best_clf_lr_local /= 5\n",
        "learn_clas_local_bwd1.fit_one_cycle(1, slice(best_clf_lr_local/(2.6**4),best_clf_lr_local), moms=(0.8,0.7), wd=0.1)"
      ],
      "execution_count": 0,
      "outputs": [
        {
          "output_type": "display_data",
          "data": {
            "text/html": [
              "<table border=\"1\" class=\"dataframe\">\n",
              "  <thead>\n",
              "    <tr style=\"text-align: left;\">\n",
              "      <th>epoch</th>\n",
              "      <th>train_loss</th>\n",
              "      <th>valid_loss</th>\n",
              "      <th>accuracy</th>\n",
              "      <th>time</th>\n",
              "    </tr>\n",
              "  </thead>\n",
              "  <tbody>\n",
              "    <tr>\n",
              "      <td>0</td>\n",
              "      <td>0.756245</td>\n",
              "      <td>0.674884</td>\n",
              "      <td>0.622951</td>\n",
              "      <td>00:00</td>\n",
              "    </tr>\n",
              "  </tbody>\n",
              "</table>"
            ],
            "text/plain": [
              "<IPython.core.display.HTML object>"
            ]
          },
          "metadata": {
            "tags": []
          }
        }
      ]
    },
    {
      "cell_type": "code",
      "metadata": {
        "id": "opUCcqdbPisF",
        "colab_type": "code",
        "outputId": "aa0a4fe1-ae67-4af9-fa06-f49695ec0a56",
        "colab": {
          "base_uri": "https://localhost:8080/",
          "height": 311
        }
      },
      "source": [
        "preds,y,losses = learn_clas_local_bwd1.get_preds(with_loss=True)\n",
        "interp = ClassificationInterpretation(learn_clas_local_bwd1, preds, y, losses)\n",
        "interp.plot_confusion_matrix()"
      ],
      "execution_count": 0,
      "outputs": [
        {
          "output_type": "display_data",
          "data": {
            "text/html": [
              ""
            ],
            "text/plain": [
              "<IPython.core.display.HTML object>"
            ]
          },
          "metadata": {
            "tags": []
          }
        },
        {
          "output_type": "display_data",
          "data": {
            "image/png": "[encoded data removed]",
            "text/plain": [
              "<Figure size 432x288 with 1 Axes>"
            ]
          },
          "metadata": {
            "tags": [],
            "needs_background": "light"
          }
        }
      ]
    },
    {
      "cell_type": "code",
      "metadata": {
        "id": "BPrFvnMUPoZU",
        "colab_type": "code",
        "outputId": "a578001f-6113-4d3e-f819-f8eb3a92fdf9",
        "colab": {
          "base_uri": "https://localhost:8080/",
          "height": 17
        }
      },
      "source": [
        "pred_fwd,lbl_fwd = learn_clas_local.get_preds(ordered=True)"
      ],
      "execution_count": 0,
      "outputs": [
        {
          "output_type": "display_data",
          "data": {
            "text/html": [
              ""
            ],
            "text/plain": [
              "<IPython.core.display.HTML object>"
            ]
          },
          "metadata": {
            "tags": []
          }
        }
      ]
    },
    {
      "cell_type": "code",
      "metadata": {
        "id": "xKBwglEWjhqf",
        "colab_type": "code",
        "outputId": "6ee31af0-2ccb-4fa6-d8ba-e152c78e8ea5",
        "colab": {
          "base_uri": "https://localhost:8080/",
          "height": 17
        }
      },
      "source": [
        "pred_bwd,lbl_bwd = learn_clas_local_bwd1.get_preds(ordered=True)"
      ],
      "execution_count": 0,
      "outputs": [
        {
          "output_type": "display_data",
          "data": {
            "text/html": [
              ""
            ],
            "text/plain": [
              "<IPython.core.display.HTML object>"
            ]
          },
          "metadata": {
            "tags": []
          }
        }
      ]
    },
    {
      "cell_type": "code",
      "metadata": {
        "id": "BvJszLIKjkrb",
        "colab_type": "code",
        "colab": {}
      },
      "source": [
        "final_pred = (pred_fwd+pred_bwd)/2"
      ],
      "execution_count": 0,
      "outputs": []
    },
    {
      "cell_type": "code",
      "metadata": {
        "id": "-Oryk9kGjsgo",
        "colab_type": "code",
        "outputId": "64134fe9-14de-4e85-dc12-866c3696a6ed",
        "colab": {
          "base_uri": "https://localhost:8080/",
          "height": 35
        }
      },
      "source": [
        "accuracy(final_pred, lbl_fwd)"
      ],
      "execution_count": 0,
      "outputs": [
        {
          "output_type": "execute_result",
          "data": {
            "text/plain": [
              "tensor(0.5902)"
            ]
          },
          "metadata": {
            "tags": []
          },
          "execution_count": 86
        }
      ]
    },
    {
      "cell_type": "code",
      "metadata": {
        "id": "A6hwFUdUnwRu",
        "colab_type": "code",
        "outputId": "73787bd5-bdc1-4b14-bfc0-3a95850ba4f3",
        "colab": {
          "base_uri": "https://localhost:8080/",
          "height": 35
        }
      },
      "source": [
        "learn_clas_local_bwd1.predict(\"you cb\")"
      ],
      "execution_count": 0,
      "outputs": [
        {
          "output_type": "execute_result",
          "data": {
            "text/plain": [
              "(Category 1, tensor(1), tensor([0.4780, 0.5220]))"
            ]
          },
          "metadata": {
            "tags": []
          },
          "execution_count": 88
        }
      ]
    },
    {
      "cell_type": "code",
      "metadata": {
        "id": "8X_S-9tXnzBU",
        "colab_type": "code",
        "outputId": "84562d3e-5c89-4571-81e0-f63e676c9c09",
        "colab": {
          "base_uri": "https://localhost:8080/",
          "height": 35
        }
      },
      "source": [
        "learn_clas_local_bwd1.predict(\"kanasai\")"
      ],
      "execution_count": 0,
      "outputs": [
        {
          "output_type": "execute_result",
          "data": {
            "text/plain": [
              "(Category 0, tensor(0), tensor([0.5798, 0.4202]))"
            ]
          },
          "metadata": {
            "tags": []
          },
          "execution_count": 89
        }
      ]
    }
  ]
}