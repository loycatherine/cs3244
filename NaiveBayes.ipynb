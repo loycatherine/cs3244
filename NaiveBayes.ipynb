{
  "nbformat": 4,
  "nbformat_minor": 0,
  "metadata": {
    "colab": {
      "name": "NaiveBayes.ipynb",
      "provenance": [],
      "include_colab_link": true
    },
    "kernelspec": {
      "name": "python3",
      "display_name": "Python 3"
    }
  },
  "cells": [
    {
      "cell_type": "markdown",
      "metadata": {
        "id": "view-in-github",
        "colab_type": "text"
      },
      "source": [
        "<a href=\"https://colab.research.google.com/github/loycatherine/cs3244/blob/master/NaiveBayes.ipynb\" target=\"_parent\"><img src=\"https://colab.research.google.com/assets/colab-badge.svg\" alt=\"Open In Colab\"/></a>"
      ]
    },
    {
      "cell_type": "markdown",
      "metadata": {
        "id": "mZldzG13iV5Z",
        "colab_type": "text"
      },
      "source": [
        "## Preprocessing the data\n"
      ]
    },
    {
      "cell_type": "code",
      "metadata": {
        "id": "OGwGKYEc6BlR",
        "colab_type": "code",
        "outputId": "7fb5284f-8360-4a84-f9cb-e9d8b09a41ad",
        "colab": {
          "base_uri": "https://localhost:8080/",
          "height": 124
        }
      },
      "source": [
        "from google.colab import drive\n",
        "drive.mount('/content/gdrive')"
      ],
      "execution_count": 0,
      "outputs": [
        {
          "output_type": "stream",
          "text": [
            "Go to this URL in a browser: https://accounts.google.com/o/oauth2/auth?client_id=947318989803-6bn6qk8qdgf4n4g3pfee6491hc0brc4i.apps.googleusercontent.com&redirect_uri=urn%3aietf%3awg%3aoauth%3a2.0%3aoob&response_type=code&scope=email%20https%3a%2f%2fwww.googleapis.com%2fauth%2fdocs.test%20https%3a%2f%2fwww.googleapis.com%2fauth%2fdrive%20https%3a%2f%2fwww.googleapis.com%2fauth%2fdrive.photos.readonly%20https%3a%2f%2fwww.googleapis.com%2fauth%2fpeopleapi.readonly\n",
            "\n",
            "Enter your authorization code:\n",
            "··········\n",
            "Mounted at /content/gdrive\n"
          ],
          "name": "stdout"
        }
      ]
    },
    {
      "cell_type": "code",
      "metadata": {
        "id": "bH8wDP6n6GfV",
        "colab_type": "code",
        "outputId": "42052101-303b-43f9-d745-b5c98168f90b",
        "colab": {
          "base_uri": "https://localhost:8080/",
          "height": 124
        }
      },
      "source": [
        "import sys, os, re, csv, codecs, numpy as np, pandas as pd\n",
        "!pip install unidecode\n",
        "import unidecode"
      ],
      "execution_count": 0,
      "outputs": [
        {
          "output_type": "stream",
          "text": [
            "Collecting unidecode\n",
            "\u001b[?25l  Downloading https://files.pythonhosted.org/packages/d0/42/d9edfed04228bacea2d824904cae367ee9efd05e6cce7ceaaedd0b0ad964/Unidecode-1.1.1-py2.py3-none-any.whl (238kB)\n",
            "\r\u001b[K     |█▍                              | 10kB 17.7MB/s eta 0:00:01\r\u001b[K     |██▊                             | 20kB 1.8MB/s eta 0:00:01\r\u001b[K     |████▏                           | 30kB 2.6MB/s eta 0:00:01\r\u001b[K     |█████▌                          | 40kB 1.7MB/s eta 0:00:01\r\u001b[K     |██████▉                         | 51kB 2.1MB/s eta 0:00:01\r\u001b[K     |████████▎                       | 61kB 2.5MB/s eta 0:00:01\r\u001b[K     |█████████▋                      | 71kB 2.9MB/s eta 0:00:01\r\u001b[K     |███████████                     | 81kB 2.3MB/s eta 0:00:01\r\u001b[K     |████████████▍                   | 92kB 2.5MB/s eta 0:00:01\r\u001b[K     |█████████████▊                  | 102kB 2.8MB/s eta 0:00:01\r\u001b[K     |███████████████▏                | 112kB 2.8MB/s eta 0:00:01\r\u001b[K     |████████████████▌               | 122kB 2.8MB/s eta 0:00:01\r\u001b[K     |█████████████████▉              | 133kB 2.8MB/s eta 0:00:01\r\u001b[K     |███████████████████▎            | 143kB 2.8MB/s eta 0:00:01\r\u001b[K     |████████████████████▋           | 153kB 2.8MB/s eta 0:00:01\r\u001b[K     |██████████████████████          | 163kB 2.8MB/s eta 0:00:01\r\u001b[K     |███████████████████████▍        | 174kB 2.8MB/s eta 0:00:01\r\u001b[K     |████████████████████████▊       | 184kB 2.8MB/s eta 0:00:01\r\u001b[K     |██████████████████████████▏     | 194kB 2.8MB/s eta 0:00:01\r\u001b[K     |███████████████████████████▌    | 204kB 2.8MB/s eta 0:00:01\r\u001b[K     |████████████████████████████▉   | 215kB 2.8MB/s eta 0:00:01\r\u001b[K     |██████████████████████████████▎ | 225kB 2.8MB/s eta 0:00:01\r\u001b[K     |███████████████████████████████▋| 235kB 2.8MB/s eta 0:00:01\r\u001b[K     |████████████████████████████████| 245kB 2.8MB/s \n",
            "\u001b[?25hInstalling collected packages: unidecode\n",
            "Successfully installed unidecode-1.1.1\n"
          ],
          "name": "stdout"
        }
      ]
    },
    {
      "cell_type": "code",
      "metadata": {
        "id": "mpnl43fEhYl3",
        "colab_type": "code",
        "outputId": "c62d2626-6d90-4ffb-f3ef-339e1ec8f97a",
        "colab": {
          "base_uri": "https://localhost:8080/",
          "height": 87
        }
      },
      "source": [
        "set1 = pd.read_csv('../content/gdrive/My Drive/CS3244 Project/LSTM/detecting-insults-in-social-commentary/train.csv')\n",
        "set1.drop(\"Date\", 1, inplace=True)\n",
        "set1[\"Comment\"] = set1[\"Comment\"].str.decode('unicode_escape')\n",
        "print(\"Set 1:\")\n",
        "print(set1.count())"
      ],
      "execution_count": 0,
      "outputs": [
        {
          "output_type": "stream",
          "text": [
            "Set 1:\n",
            "Insult     3947\n",
            "Comment    3947\n",
            "dtype: int64\n"
          ],
          "name": "stdout"
        }
      ]
    },
    {
      "cell_type": "code",
      "metadata": {
        "id": "3QAObODLhhTE",
        "colab_type": "code",
        "outputId": "87b84a25-fa6c-4bd7-bced-9b22b8b86bb2",
        "colab": {
          "base_uri": "https://localhost:8080/",
          "height": 87
        }
      },
      "source": [
        "set2 = pd.read_csv('../content/gdrive/My Drive/CS3244 Project/LSTM/detecting-insults-in-social-commentary/impermium_verification_labels.csv')\n",
        "set2.drop(\"Date\", 1, inplace=True)\n",
        "set2.drop(\"Usage\", 1, inplace=True)\n",
        "set2.drop(\"id\", 1, inplace=True)\n",
        "set2[\"Comment\"] = set2[\"Comment\"].str.decode('unicode_escape')\n",
        "print(\"Set 2:\")\n",
        "print(set2.count())"
      ],
      "execution_count": 0,
      "outputs": [
        {
          "output_type": "stream",
          "text": [
            "Set 2:\n",
            "Insult     2235\n",
            "Comment    2235\n",
            "dtype: int64\n"
          ],
          "name": "stdout"
        }
      ]
    },
    {
      "cell_type": "code",
      "metadata": {
        "id": "H885v4Q-hkxk",
        "colab_type": "code",
        "outputId": "60badc54-2481-4af8-c393-2ec9f2140517",
        "colab": {
          "base_uri": "https://localhost:8080/",
          "height": 87
        }
      },
      "source": [
        "set3 = pd.read_csv('../content/gdrive/My Drive/CS3244 Project/LSTM/jigsaw-toxic-comment-classification-challenge/train.csv')\n",
        "set3.loc[(set3.toxic == 1) | (set3.severe_toxic == 1) | (set3.severe_toxic == 1) | (set3.obscene == 1) | (set3.threat == 1) | (set3.insult == 1) | (set3.identity_hate == 1), \"Insult\"] = 1\n",
        "set3.loc[(set3.toxic == 0) & (set3.severe_toxic == 0) & (set3.severe_toxic == 0) & (set3.obscene == 0) & (set3.threat == 0) & (set3.insult == 0) & (set3.identity_hate == 0), \"Insult\"] = 0\n",
        "set3.drop(\"toxic\", 1, inplace=True)\n",
        "set3.drop(\"severe_toxic\", 1, inplace=True)\n",
        "set3.drop(\"obscene\", 1, inplace=True)\n",
        "set3.drop(\"threat\", 1, inplace=True)\n",
        "set3.drop(\"insult\", 1, inplace=True)\n",
        "set3.drop(\"identity_hate\", 1, inplace=True)\n",
        "set3.drop(\"id\", 1, inplace=True)\n",
        "set3 = set3.rename(columns={\"comment_text\": \"Comment\"})\n",
        "set3 = set3.astype({'Insult': 'int32'})\n",
        "set3 = set3[['Insult', 'Comment']]\n",
        "set3[\"Comment\"] = set3[\"Comment\"].str.replace(\"\\n\", \" \")\n",
        "print(\"Set 3:\")\n",
        "print(set3.count())"
      ],
      "execution_count": 0,
      "outputs": [
        {
          "output_type": "stream",
          "text": [
            "Set 3:\n",
            "Insult     159571\n",
            "Comment    159571\n",
            "dtype: int64\n"
          ],
          "name": "stdout"
        }
      ]
    },
    {
      "cell_type": "code",
      "metadata": {
        "id": "71QmIinQho7i",
        "colab_type": "code",
        "outputId": "b882088a-d9b2-4f17-afc2-9d5925ec4e08",
        "colab": {
          "base_uri": "https://localhost:8080/",
          "height": 87
        }
      },
      "source": [
        "set4 = pd.read_csv('../content/gdrive/My Drive/CS3244 Project/LSTM/detecting-insults-in-social-commentary/test_with_solutions.csv')\n",
        "set4.drop(\"Date\", 1, inplace=True)\n",
        "set4.drop(\"Usage\", 1 , inplace=True)\n",
        "set4[\"Comment\"] = set4[\"Comment\"].str.replace(r\"\\\\n\", \" \")\n",
        "print(\"set 4:\")\n",
        "print(set4.count())"
      ],
      "execution_count": 0,
      "outputs": [
        {
          "output_type": "stream",
          "text": [
            "set 4:\n",
            "Insult     2647\n",
            "Comment    2647\n",
            "dtype: int64\n"
          ],
          "name": "stdout"
        }
      ]
    },
    {
      "cell_type": "code",
      "metadata": {
        "id": "-0fv7rRUhsej",
        "colab_type": "code",
        "outputId": "4cd5a057-e011-4710-8baf-f938384429db",
        "colab": {
          "base_uri": "https://localhost:8080/",
          "height": 87
        }
      },
      "source": [
        "train = pd.concat([set1, set2, set3, set4])\n",
        "train.drop_duplicates(inplace = True)\n",
        "\n",
        "#Strip quotation marks, lowercase all\n",
        "train[\"Comment\"] = train[\"Comment\"].str.strip('\"').str.lower()\n",
        "#Convert contractions\n",
        "train[\"Comment\"] = train[\"Comment\"].str.replace(\"can't\",\"can not\")\n",
        "train[\"Comment\"] = train[\"Comment\"].str.replace(\"you're\",\"you are\")\n",
        "train[\"Comment\"] = train[\"Comment\"].str.replace(\"don't\",\"do not\")\n",
        "train[\"Comment\"] = train[\"Comment\"].str.replace(\"i'm\",\"i am\")\n",
        "#Remove punctuation and leftover encoding\n",
        "train[\"Comment\"] = train[\"Comment\"].str.replace(r'\\\\xa0', ' ')\n",
        "train[\"Comment\"] = train[\"Comment\"].str.replace(r'\\\\xc2', ' ')\n",
        "train[\"Comment\"] = train[\"Comment\"].str.replace('[^\\w\\s]','')\n",
        "\n",
        "print(\"train:\")\n",
        "print(train.count())"
      ],
      "execution_count": 0,
      "outputs": [
        {
          "output_type": "stream",
          "text": [
            "train:\n",
            "Insult     168318\n",
            "Comment    168318\n",
            "dtype: int64\n"
          ],
          "name": "stdout"
        }
      ]
    },
    {
      "cell_type": "code",
      "metadata": {
        "id": "GFsRnammhxpa",
        "colab_type": "code",
        "outputId": "c12a5fff-3309-4d81-e8cd-4769a3c73e63",
        "colab": {
          "base_uri": "https://localhost:8080/",
          "height": 415
        }
      },
      "source": [
        "train.head(100)"
      ],
      "execution_count": 0,
      "outputs": [
        {
          "output_type": "execute_result",
          "data": {
            "text/html": [
              "<div>\n",
              "<style scoped>\n",
              "    .dataframe tbody tr th:only-of-type {\n",
              "        vertical-align: middle;\n",
              "    }\n",
              "\n",
              "    .dataframe tbody tr th {\n",
              "        vertical-align: top;\n",
              "    }\n",
              "\n",
              "    .dataframe thead th {\n",
              "        text-align: right;\n",
              "    }\n",
              "</style>\n",
              "<table border=\"1\" class=\"dataframe\">\n",
              "  <thead>\n",
              "    <tr style=\"text-align: right;\">\n",
              "      <th></th>\n",
              "      <th>Insult</th>\n",
              "      <th>Comment</th>\n",
              "    </tr>\n",
              "  </thead>\n",
              "  <tbody>\n",
              "    <tr>\n",
              "      <th>0</th>\n",
              "      <td>1</td>\n",
              "      <td>you fuck your dad</td>\n",
              "    </tr>\n",
              "    <tr>\n",
              "      <th>1</th>\n",
              "      <td>0</td>\n",
              "      <td>i really do not understand your point  it seem...</td>\n",
              "    </tr>\n",
              "    <tr>\n",
              "      <th>2</th>\n",
              "      <td>0</td>\n",
              "      <td>a  majority of canadians can and has been wron...</td>\n",
              "    </tr>\n",
              "    <tr>\n",
              "      <th>3</th>\n",
              "      <td>0</td>\n",
              "      <td>listen if you dont wanna get married to a man ...</td>\n",
              "    </tr>\n",
              "    <tr>\n",
              "      <th>4</th>\n",
              "      <td>0</td>\n",
              "      <td>các bạn xuống đường biểu tình 2011 có ôn hoà k...</td>\n",
              "    </tr>\n",
              "    <tr>\n",
              "      <th>...</th>\n",
              "      <td>...</td>\n",
              "      <td>...</td>\n",
              "    </tr>\n",
              "    <tr>\n",
              "      <th>95</th>\n",
              "      <td>1</td>\n",
              "      <td>correction bitch you do not think its superb b...</td>\n",
              "    </tr>\n",
              "    <tr>\n",
              "      <th>96</th>\n",
              "      <td>1</td>\n",
              "      <td>i think the only trickle that effected you was...</td>\n",
              "    </tr>\n",
              "    <tr>\n",
              "      <th>97</th>\n",
              "      <td>1</td>\n",
              "      <td>and you keep on your knees and keep telling yo...</td>\n",
              "    </tr>\n",
              "    <tr>\n",
              "      <th>98</th>\n",
              "      <td>0</td>\n",
              "      <td>what was that like 2000 words about nothing yo...</td>\n",
              "    </tr>\n",
              "    <tr>\n",
              "      <th>99</th>\n",
              "      <td>0</td>\n",
              "      <td>rourke needs to give me a fucking like  jwoude...</td>\n",
              "    </tr>\n",
              "  </tbody>\n",
              "</table>\n",
              "<p>100 rows × 2 columns</p>\n",
              "</div>"
            ],
            "text/plain": [
              "    Insult                                            Comment\n",
              "0        1                                  you fuck your dad\n",
              "1        0  i really do not understand your point  it seem...\n",
              "2        0  a  majority of canadians can and has been wron...\n",
              "3        0  listen if you dont wanna get married to a man ...\n",
              "4        0  các bạn xuống đường biểu tình 2011 có ôn hoà k...\n",
              "..     ...                                                ...\n",
              "95       1  correction bitch you do not think its superb b...\n",
              "96       1  i think the only trickle that effected you was...\n",
              "97       1  and you keep on your knees and keep telling yo...\n",
              "98       0  what was that like 2000 words about nothing yo...\n",
              "99       0  rourke needs to give me a fucking like  jwoude...\n",
              "\n",
              "[100 rows x 2 columns]"
            ]
          },
          "metadata": {
            "tags": []
          },
          "execution_count": 8
        }
      ]
    },
    {
      "cell_type": "code",
      "metadata": {
        "id": "N-TSixiyh7rO",
        "colab_type": "code",
        "colab": {}
      },
      "source": [
        "classification = [\"Insult\"]\n",
        "train_values = train[classification].values\n",
        "train_comments = train[\"Comment\"]\n",
        "\n",
        "from sklearn.model_selection import train_test_split\n",
        "\n",
        "# Split the data\n",
        "train_comments, test_comments, train_values, test_values = train_test_split(train_comments, train_values, test_size=0.3, shuffle= True)"
      ],
      "execution_count": 0,
      "outputs": []
    },
    {
      "cell_type": "code",
      "metadata": {
        "id": "_AhRBRzqiEa4",
        "colab_type": "code",
        "outputId": "ecec96a4-25a6-4e20-a5c1-2f1fe2fe7125",
        "colab": {
          "base_uri": "https://localhost:8080/",
          "height": 35
        }
      },
      "source": [
        "from sklearn.feature_extraction.text import TfidfTransformer\n",
        "from sklearn.feature_extraction.text import TfidfVectorizer\n",
        "vectorizer = TfidfVectorizer()\n",
        "train_vectors = vectorizer.fit_transform(train_comments)\n",
        "test_vectors = vectorizer.transform(test_comments)\n",
        "print(train_vectors.shape, test_vectors.shape)"
      ],
      "execution_count": 0,
      "outputs": [
        {
          "output_type": "stream",
          "text": [
            "(117822, 205524) (50496, 205524)\n"
          ],
          "name": "stdout"
        }
      ]
    },
    {
      "cell_type": "code",
      "metadata": {
        "id": "_0av2li0ioU5",
        "colab_type": "code",
        "colab": {}
      },
      "source": [
        "import matplotlib.pyplot as plt\n",
        "%matplotlib inline"
      ],
      "execution_count": 0,
      "outputs": []
    },
    {
      "cell_type": "code",
      "metadata": {
        "id": "04bfo0S5irsj",
        "colab_type": "code",
        "outputId": "fc04c4b3-61f3-4805-d354-5f5f2bd8030f",
        "colab": {
          "base_uri": "https://localhost:8080/",
          "height": 265
        }
      },
      "source": [
        "word_len = [len(comment) for comment in train_comments]\n",
        "plt.hist(word_len, bins=np.arange(0,500,10))\n",
        "plt.show()"
      ],
      "execution_count": 0,
      "outputs": [
        {
          "output_type": "display_data",
          "data": {
            "image/png": "[encoded data removed]",
            "text/plain": [
              "<Figure size 432x288 with 1 Axes>"
            ]
          },
          "metadata": {
            "tags": []
          }
        }
      ]
    },
    {
      "cell_type": "markdown",
      "metadata": {
        "id": "KTu7l9oKjQ7k",
        "colab_type": "text"
      },
      "source": [
        "## Train the Model"
      ]
    },
    {
      "cell_type": "code",
      "metadata": {
        "id": "fO_PUnpnjFZT",
        "colab_type": "code",
        "colab": {}
      },
      "source": [
        "from sklearn.naive_bayes import MultinomialNB, GaussianNB\n",
        "from sklearn.metrics import confusion_matrix\n",
        "#train_values = column_or_1d(train_values, warn=True)# \n",
        "clf = MultinomialNB(alpha = 0.008).fit(train_vectors, train_values.ravel())"
      ],
      "execution_count": 0,
      "outputs": []
    },
    {
      "cell_type": "code",
      "metadata": {
        "id": "LcH5pVRTjW7S",
        "colab_type": "code",
        "outputId": "2fb890e4-b359-436a-bd59-191414e83d64",
        "colab": {
          "base_uri": "https://localhost:8080/",
          "height": 87
        }
      },
      "source": [
        "from sklearn.metrics  import accuracy_score, precision_score, recall_score, f1_score\n",
        "predicted = clf.predict(test_vectors)\n",
        "print(\"Test accuracy: \", accuracy_score(test_values,predicted))\n",
        "print(\"Test precision: \", precision_score(test_values,predicted))\n",
        "print(\"Test recall: \", recall_score(test_values,predicted))\n",
        "print(\"Test F1: \", f1_score(test_values,predicted))"
      ],
      "execution_count": 0,
      "outputs": [
        {
          "output_type": "stream",
          "text": [
            "Test accuracy:  0.9333610583016476\n",
            "Test precision:  0.8195488721804511\n",
            "Test recall:  0.5199646643109541\n",
            "Test F1:  0.636255539941628\n"
          ],
          "name": "stdout"
        }
      ]
    },
    {
      "cell_type": "code",
      "metadata": {
        "id": "fFr9MAt5cNUA",
        "colab_type": "code",
        "colab": {}
      },
      "source": [
        ""
      ],
      "execution_count": 0,
      "outputs": []
    }
  ]
}