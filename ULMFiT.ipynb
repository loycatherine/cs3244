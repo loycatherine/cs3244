{
  "nbformat": 4,
  "nbformat_minor": 0,
  "metadata": {
    "colab": {
      "name": "ULMFiT.ipynb",
      "provenance": [],
      "authorship_tag": "ABX9TyMRK+S9JQ+Y+OfqjamKLDVb"
    },
    "kernelspec": {
      "name": "python3",
      "display_name": "Python 3"
    },
    "accelerator": "GPU"
  },
  "cells": [
    {
      "cell_type": "markdown",
      "metadata": {
        "id": "wYCAcpVHD4Cc",
        "colab_type": "text"
      },
      "source": [
        "##Preprocessing the Data"
      ]
    },
    {
      "cell_type": "code",
      "metadata": {
        "id": "Cd01I-E0MZn2",
        "colab_type": "code",
        "colab": {}
      },
      "source": [
        "import fastai\n",
        "from fastai.text import *"
      ],
      "execution_count": 0,
      "outputs": []
    },
    {
      "cell_type": "code",
      "metadata": {
        "id": "pOFHwINUMfKi",
        "colab_type": "code",
        "colab": {}
      },
      "source": [
        "folder = '.'\n",
        "url = 'https://raw.githubusercontent.com/micklwl/cs3244/master/dataset.csv'\n",
        "train = pd.read_csv(url, sep =',')"
      ],
      "execution_count": 0,
      "outputs": []
    },
    {
      "cell_type": "code",
      "metadata": {
        "id": "hK1AnETMMlfs",
        "colab_type": "code",
        "outputId": "e6f2f4de-f412-4251-c25d-dc0042a0aa8e",
        "colab": {
          "base_uri": "https://localhost:8080/",
          "height": 35
        }
      },
      "source": [
        "from google.colab import drive\n",
        "drive.mount('/content/gdrive')"
      ],
      "execution_count": 0,
      "outputs": [
        {
          "output_type": "stream",
          "text": [
            "Drive already mounted at /content/gdrive; to attempt to forcibly remount, call drive.mount(\"/content/gdrive\", force_remount=True).\n"
          ],
          "name": "stdout"
        }
      ]
    },
    {
      "cell_type": "code",
      "metadata": {
        "id": "jvzeMGW6Ohjw",
        "colab_type": "code",
        "colab": {}
      },
      "source": [
        "train[['Insult', 'Comment']].to_csv('train_final.csv', index=None, header=True)"
      ],
      "execution_count": 0,
      "outputs": []
    },
    {
      "cell_type": "code",
      "metadata": {
        "id": "gNkMJDeCUlb0",
        "colab_type": "code",
        "colab": {}
      },
      "source": [
        "# Local data\n",
        "test = pd.read_csv('../content/gdrive/My Drive/CS3244 Project/Local Data - Sheet1.csv')\n",
        "local_train = pd.read_csv('../content/gdrive/My Drive/CS3244 Project/Local Training Data.csv')"
      ],
      "execution_count": 0,
      "outputs": []
    },
    {
      "cell_type": "code",
      "metadata": {
        "id": "QVIW7AwTUfLe",
        "colab_type": "code",
        "colab": {}
      },
      "source": [
        "#Convert contractions\n",
        "def preprocess(dataset):\n",
        "  dataset[\"Comment\"] = dataset[\"Comment\"].str.replace(\"can't\",\"can not\")\n",
        "  dataset[\"Comment\"] = dataset[\"Comment\"].str.replace(\"you're\",\"you are\")\n",
        "  dataset[\"Comment\"] = dataset[\"Comment\"].str.replace(\"don't\",\"do not\")\n",
        "  dataset[\"Comment\"] = dataset[\"Comment\"].str.replace(\"i'm\",\"i am\")\n",
        "\n",
        "  return dataset"
      ],
      "execution_count": 0,
      "outputs": []
    },
    {
      "cell_type": "code",
      "metadata": {
        "id": "2VXMl2cTUfux",
        "colab_type": "code",
        "outputId": "7b179d81-16c3-4f4a-953f-57ee3cf33762",
        "colab": {
          "base_uri": "https://localhost:8080/",
          "height": 415
        }
      },
      "source": [
        "preprocess(test)\n",
        "preprocess(train)"
      ],
      "execution_count": 0,
      "outputs": [
        {
          "output_type": "execute_result",
          "data": {
            "text/html": [
              "<div>\n",
              "<style scoped>\n",
              "    .dataframe tbody tr th:only-of-type {\n",
              "        vertical-align: middle;\n",
              "    }\n",
              "\n",
              "    .dataframe tbody tr th {\n",
              "        vertical-align: top;\n",
              "    }\n",
              "\n",
              "    .dataframe thead th {\n",
              "        text-align: right;\n",
              "    }\n",
              "</style>\n",
              "<table border=\"1\" class=\"dataframe\">\n",
              "  <thead>\n",
              "    <tr style=\"text-align: right;\">\n",
              "      <th></th>\n",
              "      <th>Insult</th>\n",
              "      <th>Comment</th>\n",
              "    </tr>\n",
              "  </thead>\n",
              "  <tbody>\n",
              "    <tr>\n",
              "      <th>0</th>\n",
              "      <td>0</td>\n",
              "      <td>Sad truth is there are more hot girls than suc...</td>\n",
              "    </tr>\n",
              "    <tr>\n",
              "      <th>1</th>\n",
              "      <td>1</td>\n",
              "      <td>To the author, you should just contract covid ...</td>\n",
              "    </tr>\n",
              "    <tr>\n",
              "      <th>2</th>\n",
              "      <td>0</td>\n",
              "      <td>Aiyo it's just diff cultures la..china men are...</td>\n",
              "    </tr>\n",
              "    <tr>\n",
              "      <th>3</th>\n",
              "      <td>0</td>\n",
              "      <td>Korean oppa seem to cry alot too. Maybe he tho...</td>\n",
              "    </tr>\n",
              "    <tr>\n",
              "      <th>4</th>\n",
              "      <td>0</td>\n",
              "      <td>Guess all the mid range height population are ...</td>\n",
              "    </tr>\n",
              "    <tr>\n",
              "      <th>...</th>\n",
              "      <td>...</td>\n",
              "      <td>...</td>\n",
              "    </tr>\n",
              "    <tr>\n",
              "      <th>295</th>\n",
              "      <td>0</td>\n",
              "      <td>Yes. You will need to wear a mask.</td>\n",
              "    </tr>\n",
              "    <tr>\n",
              "      <th>296</th>\n",
              "      <td>1</td>\n",
              "      <td>Kbkb, erection still retain power. You guys re...</td>\n",
              "    </tr>\n",
              "    <tr>\n",
              "      <th>297</th>\n",
              "      <td>1</td>\n",
              "      <td>TS do not need brain if not using right?</td>\n",
              "    </tr>\n",
              "    <tr>\n",
              "      <th>298</th>\n",
              "      <td>1</td>\n",
              "      <td>Circuit breaker really accelerate their mental...</td>\n",
              "    </tr>\n",
              "    <tr>\n",
              "      <th>299</th>\n",
              "      <td>0</td>\n",
              "      <td>The circuit breaker is just copying what New Z...</td>\n",
              "    </tr>\n",
              "  </tbody>\n",
              "</table>\n",
              "<p>300 rows × 2 columns</p>\n",
              "</div>"
            ],
            "text/plain": [
              "     Insult                                            Comment\n",
              "0         0  Sad truth is there are more hot girls than suc...\n",
              "1         1  To the author, you should just contract covid ...\n",
              "2         0  Aiyo it's just diff cultures la..china men are...\n",
              "3         0  Korean oppa seem to cry alot too. Maybe he tho...\n",
              "4         0  Guess all the mid range height population are ...\n",
              "..      ...                                                ...\n",
              "295       0                 Yes. You will need to wear a mask.\n",
              "296       1  Kbkb, erection still retain power. You guys re...\n",
              "297       1           TS do not need brain if not using right?\n",
              "298       1  Circuit breaker really accelerate their mental...\n",
              "299       0  The circuit breaker is just copying what New Z...\n",
              "\n",
              "[300 rows x 2 columns]"
            ]
          },
          "metadata": {
            "tags": []
          },
          "execution_count": 7
        }
      ]
    },
    {
      "cell_type": "code",
      "metadata": {
        "id": "qMgEL5LZUppc",
        "colab_type": "code",
        "colab": {}
      },
      "source": [
        "test[['Insult','Comment']].to_csv('test.csv', index=None, header=True)"
      ],
      "execution_count": 0,
      "outputs": []
    },
    {
      "cell_type": "code",
      "metadata": {
        "id": "fVB_BLG5Mmx9",
        "colab_type": "code",
        "colab": {}
      },
      "source": [
        "# Local Data\n",
        "test_file = 'test.csv'"
      ],
      "execution_count": 0,
      "outputs": []
    },
    {
      "cell_type": "code",
      "metadata": {
        "id": "rLn3xf6tMsAv",
        "colab_type": "code",
        "colab": {}
      },
      "source": [
        "# For the language model\n",
        "pd.concat([train['Comment'], local_train['Comment']]).to_csv('unlabeled_comments.csv', index=None, header=True)"
      ],
      "execution_count": 0,
      "outputs": []
    },
    {
      "cell_type": "code",
      "metadata": {
        "id": "ILWNOT2NMvJI",
        "colab_type": "code",
        "colab": {}
      },
      "source": [
        "folder = '.'\n",
        "unlabeled_file = 'unlabeled_comments.csv'"
      ],
      "execution_count": 0,
      "outputs": []
    },
    {
      "cell_type": "code",
      "metadata": {
        "id": "ZlWBsFAcNNR4",
        "colab_type": "code",
        "colab": {}
      },
      "source": [
        "bs,bptt=32,80"
      ],
      "execution_count": 0,
      "outputs": []
    },
    {
      "cell_type": "markdown",
      "metadata": {
        "id": "80VIREOuD97W",
        "colab_type": "text"
      },
      "source": [
        "##Fine-tuning the Language Model"
      ]
    },
    {
      "cell_type": "code",
      "metadata": {
        "id": "lHxxjCgUMwbB",
        "colab_type": "code",
        "outputId": "a8f3da9c-3bd3-4ebf-e1ec-33d39aac5ac9",
        "colab": {
          "base_uri": "https://localhost:8080/",
          "height": 17
        }
      },
      "source": [
        "# Tokenize data for the language model\n",
        "data_lm = TextLMDataBunch.from_csv(folder, unlabeled_file, text_cols='Comment')"
      ],
      "execution_count": 0,
      "outputs": [
        {
          "output_type": "display_data",
          "data": {
            "text/html": [
              ""
            ],
            "text/plain": [
              "<IPython.core.display.HTML object>"
            ]
          },
          "metadata": {
            "tags": []
          }
        },
        {
          "output_type": "display_data",
          "data": {
            "text/html": [
              ""
            ],
            "text/plain": [
              "<IPython.core.display.HTML object>"
            ]
          },
          "metadata": {
            "tags": []
          }
        }
      ]
    },
    {
      "cell_type": "code",
      "metadata": {
        "id": "_lQt3afmNDvF",
        "colab_type": "code",
        "colab": {}
      },
      "source": [
        "# Saves the data, so that when the notebook is restarted, \n",
        "# we don't have to run data_lm again\n",
        "data_lm.save('data_lm.pkl')"
      ],
      "execution_count": 0,
      "outputs": []
    },
    {
      "cell_type": "code",
      "metadata": {
        "id": "xpTWmv3oNFlL",
        "colab_type": "code",
        "colab": {}
      },
      "source": [
        "# Loads data\n",
        "data_lm = load_data(folder, 'data_lm.pkl', bs=bs, bptt=bptt)"
      ],
      "execution_count": 0,
      "outputs": []
    },
    {
      "cell_type": "code",
      "metadata": {
        "id": "QGqgCubLNVdo",
        "colab_type": "code",
        "outputId": "63c7b87a-12cc-495e-95a2-97a8606a1374",
        "colab": {
          "base_uri": "https://localhost:8080/",
          "height": 341
        }
      },
      "source": [
        "data_lm.show_batch()"
      ],
      "execution_count": 0,
      "outputs": [
        {
          "output_type": "display_data",
          "data": {
            "text/html": [
              "<table border=\"1\" class=\"dataframe\">\n",
              "  <thead>\n",
              "    <tr style=\"text-align: right;\">\n",
              "      <th>idx</th>\n",
              "      <th>text</th>\n",
              "    </tr>\n",
              "  </thead>\n",
              "  <tbody>\n",
              "    <tr>\n",
              "      <td>0</td>\n",
              "      <td>cite a source specifically saying the site has been abandoned i do not believe such a source exists right now we have the kickstarter as a source stating that he plans to continue goats this contradicts any notions abandonment are we actually arguing about this if you have a gripe about the rosenberg discontinuing goats then here is not the place for it xxunk xxbos how good pussy taste i</td>\n",
              "    </tr>\n",
              "    <tr>\n",
              "      <td>1</td>\n",
              "      <td>ignored but others taken up with relish so i pose the question if an active arbitrator admitted that they are a right wing pov xxunk who has in real life even acted in such a way as to have been suspended from practicing law are they fit to continue in their post and meet out judgements on others xxunk xxunk 0129 2004 dec 18 omitted sig added request for arbitration</td>\n",
              "    </tr>\n",
              "    <tr>\n",
              "      <td>2</td>\n",
              "      <td>yes kay i had to 1 teach myself digital electronics and 2 design and create the board to interface to these xxunk xxunk ex type a char on the selectric terminal and watch what came in on an xxunk then program the altair to produce outputs that matched that timing learning that gasp ibm put the parity bit at the opposite end of the word than most of the rest</td>\n",
              "    </tr>\n",
              "    <tr>\n",
              "      <td>3</td>\n",
              "      <td>longer range part seems more important that is sort of tied to what s is in the 3rd lead paragraph now as well that covers every major thing in the article xxbos i should say i have never even heard of them xxbos xxunk chapin hi not sure this is the place to reply to your email i am the sponsor of the commission you indicated you needed a source</td>\n",
              "    </tr>\n",
              "    <tr>\n",
              "      <td>4</td>\n",
              "      <td>2006 utc xxunk if you really want all the nitty gritty information of xxunk case then why do not you do what was suggested at the start of this debate and do a full court record of xxunk trial this is an article about gary glitter the singer while it will of course mention details about the case it is not a case of doing it to the degree that</td>\n",
              "    </tr>\n",
              "  </tbody>\n",
              "</table>"
            ],
            "text/plain": [
              "<IPython.core.display.HTML object>"
            ]
          },
          "metadata": {
            "tags": []
          }
        }
      ]
    },
    {
      "cell_type": "code",
      "metadata": {
        "id": "mhrEbEC1Nf4n",
        "colab_type": "code",
        "colab": {}
      },
      "source": [
        "# Create the language model using the tokenized data\n",
        "learn = language_model_learner(data_lm, AWD_LSTM)"
      ],
      "execution_count": 0,
      "outputs": []
    },
    {
      "cell_type": "code",
      "metadata": {
        "id": "lThmvtUJNqAn",
        "colab_type": "code",
        "outputId": "f1723928-0013-40ba-f42e-d1125c963ff4",
        "colab": {
          "base_uri": "https://localhost:8080/",
          "height": 147
        }
      },
      "source": [
        "# Finds the best learning rate for fine-tuning the language model\n",
        "%%time\n",
        "learn.lr_find()"
      ],
      "execution_count": 0,
      "outputs": [
        {
          "output_type": "display_data",
          "data": {
            "text/html": [
              "\n",
              "    <div>\n",
              "        <style>\n",
              "            /* Turns off some styling */\n",
              "            progress {\n",
              "                /* gets rid of default border in Firefox and Opera. */\n",
              "                border: none;\n",
              "                /* Needs to be in here for Safari polyfill so background images work as expected. */\n",
              "                background-size: auto;\n",
              "            }\n",
              "            .progress-bar-interrupted, .progress-bar-interrupted::-webkit-progress-bar {\n",
              "                background: #F44336;\n",
              "            }\n",
              "        </style>\n",
              "      <progress value='0' class='' max='1' style='width:300px; height:20px; vertical-align: middle;'></progress>\n",
              "      0.00% [0/1 00:00<00:00]\n",
              "    </div>\n",
              "    \n",
              "<table border=\"1\" class=\"dataframe\">\n",
              "  <thead>\n",
              "    <tr style=\"text-align: left;\">\n",
              "      <th>epoch</th>\n",
              "      <th>train_loss</th>\n",
              "      <th>valid_loss</th>\n",
              "      <th>accuracy</th>\n",
              "      <th>time</th>\n",
              "    </tr>\n",
              "  </thead>\n",
              "  <tbody>\n",
              "  </tbody>\n",
              "</table><p>\n",
              "\n",
              "    <div>\n",
              "        <style>\n",
              "            /* Turns off some styling */\n",
              "            progress {\n",
              "                /* gets rid of default border in Firefox and Opera. */\n",
              "                border: none;\n",
              "                /* Needs to be in here for Safari polyfill so background images work as expected. */\n",
              "                background-size: auto;\n",
              "            }\n",
              "            .progress-bar-interrupted, .progress-bar-interrupted::-webkit-progress-bar {\n",
              "                background: #F44336;\n",
              "            }\n",
              "        </style>\n",
              "      <progress value='99' class='' max='3466' style='width:300px; height:20px; vertical-align: middle;'></progress>\n",
              "      2.86% [99/3466 00:15<08:43 14.4149]\n",
              "    </div>\n",
              "    "
            ],
            "text/plain": [
              "<IPython.core.display.HTML object>"
            ]
          },
          "metadata": {
            "tags": []
          }
        },
        {
          "output_type": "stream",
          "text": [
            "LR Finder is complete, type {learner_name}.recorder.plot() to see the graph.\n",
            "CPU times: user 10.3 s, sys: 6.05 s, total: 16.4 s\n",
            "Wall time: 16.6 s\n"
          ],
          "name": "stdout"
        }
      ]
    },
    {
      "cell_type": "code",
      "metadata": {
        "id": "iHHIF4heNrCc",
        "colab_type": "code",
        "outputId": "4d556cdf-ce33-4095-de57-0d1af493ac1a",
        "colab": {
          "base_uri": "https://localhost:8080/",
          "height": 314
        }
      },
      "source": [
        "learn.recorder.plot(suggestion=True)"
      ],
      "execution_count": 0,
      "outputs": [
        {
          "output_type": "stream",
          "text": [
            "Min numerical gradient: 3.98E-02\n",
            "Min loss divided by 10: 1.00E-02\n"
          ],
          "name": "stdout"
        },
        {
          "output_type": "display_data",
          "data": {
            "image/png": "[encoded data removed]",
            "text/plain": [
              "<Figure size 432x288 with 1 Axes>"
            ]
          },
          "metadata": {
            "tags": [],
            "needs_background": "light"
          }
        }
      ]
    },
    {
      "cell_type": "code",
      "metadata": {
        "id": "HAfWBZDUNsKo",
        "colab_type": "code",
        "outputId": "0669462d-6006-45be-e56a-8fb729ab2727",
        "colab": {
          "base_uri": "https://localhost:8080/",
          "height": 35
        }
      },
      "source": [
        "# Retrieves the best learning rate for the language model\n",
        "best_lm_lr = learn.recorder.min_grad_lr\n",
        "best_lm_lr"
      ],
      "execution_count": 0,
      "outputs": [
        {
          "output_type": "execute_result",
          "data": {
            "text/plain": [
              "0.03981071705534969"
            ]
          },
          "metadata": {
            "tags": []
          },
          "execution_count": 35
        }
      ]
    },
    {
      "cell_type": "code",
      "metadata": {
        "id": "n1ZbVgJhNteB",
        "colab_type": "code",
        "outputId": "5159a935-467b-4cf5-dfdd-246c80cc1bfc",
        "colab": {
          "base_uri": "https://localhost:8080/",
          "height": 79
        }
      },
      "source": [
        "# Learning with Discriminative fine-tuning and gradual unfreezing\n",
        "learn.fit_one_cycle(1, best_lm_lr, moms=(0.8,0.7), wd=0.1)"
      ],
      "execution_count": 0,
      "outputs": [
        {
          "output_type": "display_data",
          "data": {
            "text/html": [
              "<table border=\"1\" class=\"dataframe\">\n",
              "  <thead>\n",
              "    <tr style=\"text-align: left;\">\n",
              "      <th>epoch</th>\n",
              "      <th>train_loss</th>\n",
              "      <th>valid_loss</th>\n",
              "      <th>accuracy</th>\n",
              "      <th>time</th>\n",
              "    </tr>\n",
              "  </thead>\n",
              "  <tbody>\n",
              "    <tr>\n",
              "      <td>0</td>\n",
              "      <td>5.430110</td>\n",
              "      <td>5.037243</td>\n",
              "      <td>0.215932</td>\n",
              "      <td>09:40</td>\n",
              "    </tr>\n",
              "  </tbody>\n",
              "</table>"
            ],
            "text/plain": [
              "<IPython.core.display.HTML object>"
            ]
          },
          "metadata": {
            "tags": []
          }
        }
      ]
    },
    {
      "cell_type": "code",
      "metadata": {
        "id": "WBTs59v9NuqP",
        "colab_type": "code",
        "colab": {}
      },
      "source": [
        "learn.unfreeze()"
      ],
      "execution_count": 0,
      "outputs": []
    },
    {
      "cell_type": "code",
      "metadata": {
        "id": "V8XW9yrNNv6h",
        "colab_type": "code",
        "outputId": "160a3231-eef8-4c6d-f16f-77561eb935a1",
        "colab": {
          "base_uri": "https://localhost:8080/",
          "height": 114
        }
      },
      "source": [
        "%%time\n",
        "learn.fit_one_cycle(1, best_lm_lr/10, moms=(0.8,0.7), wd=0.1)"
      ],
      "execution_count": 0,
      "outputs": [
        {
          "output_type": "display_data",
          "data": {
            "text/html": [
              "<table border=\"1\" class=\"dataframe\">\n",
              "  <thead>\n",
              "    <tr style=\"text-align: left;\">\n",
              "      <th>epoch</th>\n",
              "      <th>train_loss</th>\n",
              "      <th>valid_loss</th>\n",
              "      <th>accuracy</th>\n",
              "      <th>time</th>\n",
              "    </tr>\n",
              "  </thead>\n",
              "  <tbody>\n",
              "    <tr>\n",
              "      <td>0</td>\n",
              "      <td>4.844497</td>\n",
              "      <td>4.646588</td>\n",
              "      <td>0.258311</td>\n",
              "      <td>09:39</td>\n",
              "    </tr>\n",
              "  </tbody>\n",
              "</table>"
            ],
            "text/plain": [
              "<IPython.core.display.HTML object>"
            ]
          },
          "metadata": {
            "tags": []
          }
        },
        {
          "output_type": "stream",
          "text": [
            "CPU times: user 6min 4s, sys: 3min 30s, total: 9min 34s\n",
            "Wall time: 9min 39s\n"
          ],
          "name": "stdout"
        }
      ]
    },
    {
      "cell_type": "code",
      "metadata": {
        "id": "OOzs_o1mN9Dx",
        "colab_type": "code",
        "colab": {}
      },
      "source": [
        "# Save encode Object\n",
        "learn.save_encoder('fwd_enc')"
      ],
      "execution_count": 0,
      "outputs": []
    },
    {
      "cell_type": "code",
      "metadata": {
        "id": "uU-Af3NNOX7l",
        "colab_type": "code",
        "outputId": "69876165-882b-403b-b5e1-51b0a8a01ef1",
        "colab": {
          "base_uri": "https://localhost:8080/",
          "height": 35
        }
      },
      "source": [
        "# check how the language model performs\n",
        "learn.predict('fuck you', n_words=10)"
      ],
      "execution_count": 0,
      "outputs": [
        {
          "output_type": "execute_result",
          "data": {
            "text/plain": [
              "'fuck you jesus love i i man y xxbos it doing keep'"
            ]
          },
          "metadata": {
            "tags": []
          },
          "execution_count": 56
        }
      ]
    },
    {
      "cell_type": "markdown",
      "metadata": {
        "id": "2eFE1XoaGIAF",
        "colab_type": "text"
      },
      "source": [
        "##Fine-tuning the Classifier"
      ]
    },
    {
      "cell_type": "code",
      "metadata": {
        "id": "9t2K0OwlOZUp",
        "colab_type": "code",
        "colab": {}
      },
      "source": [
        "train_file = 'train_final.csv'"
      ],
      "execution_count": 0,
      "outputs": []
    },
    {
      "cell_type": "code",
      "metadata": {
        "id": "Z7k6S5elOqkc",
        "colab_type": "code",
        "outputId": "69879efe-7e4f-4ccd-9ee4-84380305ba24",
        "colab": {
          "base_uri": "https://localhost:8080/",
          "height": 17
        }
      },
      "source": [
        "# Create Classification Data\n",
        "data_clas = TextClasDataBunch.from_csv(path=folder, \n",
        "                                        csv_name=train_file,\n",
        "                                        vocab=data_lm.train_ds.vocab, \n",
        "                                        bs=32,\n",
        "                                        text_cols='Comment', \n",
        "                                        label_cols='Insult')"
      ],
      "execution_count": 0,
      "outputs": [
        {
          "output_type": "display_data",
          "data": {
            "text/html": [
              ""
            ],
            "text/plain": [
              "<IPython.core.display.HTML object>"
            ]
          },
          "metadata": {
            "tags": []
          }
        },
        {
          "output_type": "display_data",
          "data": {
            "text/html": [
              ""
            ],
            "text/plain": [
              "<IPython.core.display.HTML object>"
            ]
          },
          "metadata": {
            "tags": []
          }
        }
      ]
    },
    {
      "cell_type": "code",
      "metadata": {
        "id": "FV93Li0fOrYj",
        "colab_type": "code",
        "colab": {}
      },
      "source": [
        "# Save the data\n",
        "data_clas.save('data_clas.pkl')"
      ],
      "execution_count": 0,
      "outputs": []
    },
    {
      "cell_type": "code",
      "metadata": {
        "id": "NAPwH21VOxGv",
        "colab_type": "code",
        "colab": {}
      },
      "source": [
        "# Load the data\n",
        "data_clas = load_data(folder, 'data_clas.pkl', bs=bs)"
      ],
      "execution_count": 0,
      "outputs": []
    },
    {
      "cell_type": "code",
      "metadata": {
        "id": "NIrrTO5fOzm3",
        "colab_type": "code",
        "outputId": "4ed56f8d-fec4-457d-e058-d17e65fe108f",
        "colab": {
          "base_uri": "https://localhost:8080/",
          "height": 358
        }
      },
      "source": [
        "data_clas.show_batch()"
      ],
      "execution_count": 0,
      "outputs": [
        {
          "output_type": "display_data",
          "data": {
            "text/html": [
              "<table border=\"1\" class=\"dataframe\">\n",
              "  <thead>\n",
              "    <tr style=\"text-align: right;\">\n",
              "      <th>text</th>\n",
              "      <th>target</th>\n",
              "    </tr>\n",
              "  </thead>\n",
              "  <tbody>\n",
              "    <tr>\n",
              "      <td>xxbos henry xxunk democrat us secretary of housing and urban development from 1993 to 1997 pleaded guilty to a misdemeanor charge of lying to the xxunk a xxunk jr democrat member of house of representatives from ohio expelled from congress after being convicted of corruption charges sentenced today to eight years in prison for accepting bribes and kickbacks john doug xxunk democrat member of kentucky state senate from 1980 to</td>\n",
              "      <td>0</td>\n",
              "    </tr>\n",
              "    <tr>\n",
              "      <td>xxbos xxunk is a friggen xxunk xxunk is a friggen xxunk xxunk is a friggen xxunk xxunk is a friggen xxunk xxunk i am not a vandal this is not a macro your account has been xxunk xxunk is a friggen xxunk xxunk is a friggen xxunk xxunk is a friggen xxunk xxunk is a friggen xxunk xxunk i am not a vandal this is not a macro your account</td>\n",
              "      <td>1</td>\n",
              "    </tr>\n",
              "    <tr>\n",
              "      <td>xxbos the starting point is near xxunk in exodus xxunk was one of a pair of treasure cities or xxunk and the first station of the exodus in the story there are two treasure cities xxunk in the delta and ra xxunk ses at xxunk egypt exodus 1714 and the children of israel were fruitful and increased abundantly and multiplied and xxunk exceeding mighty and the land was filled with</td>\n",
              "      <td>0</td>\n",
              "    </tr>\n",
              "    <tr>\n",
              "      <td>xxbos verifiability i noticed you deleted all of my contribution yet again it would be more helpful not to mention a show of good faith if you would participate in the process and edit my contributions instead of completely deleting them now that you have removed the link to the powerbasic forums and elected to not sanction the description of official powerbasic forum perhaps some other relevant links would be</td>\n",
              "      <td>0</td>\n",
              "    </tr>\n",
              "    <tr>\n",
              "      <td>xxbos i am pleased that others have joined this enquiry but i am already dismayed to find that someone has found it necessary to sweep the jewish question under the carpet when reference on this talk page had already been made to one incident involving a final solution of the jews in england i like those terms because they shock the conscience in that everyone knows what those terms mean</td>\n",
              "      <td>0</td>\n",
              "    </tr>\n",
              "  </tbody>\n",
              "</table>"
            ],
            "text/plain": [
              "<IPython.core.display.HTML object>"
            ]
          },
          "metadata": {
            "tags": []
          }
        }
      ]
    },
    {
      "cell_type": "code",
      "metadata": {
        "id": "hN8FHGSrPHb8",
        "colab_type": "code",
        "outputId": "69b17a72-da30-4ebd-a3fa-9d159c21e1b9",
        "colab": {
          "base_uri": "https://localhost:8080/",
          "height": 1000
        }
      },
      "source": [
        "# Creating Classifier Object\n",
        "learn_clas = text_classifier_learner(data_clas, AWD_LSTM, drop_mult=0.5, pretrained=False)\n",
        "\n",
        "# Add weights of fine-tuned language model \n",
        "learn_clas.load_encoder('fwd_enc')"
      ],
      "execution_count": 0,
      "outputs": [
        {
          "output_type": "execute_result",
          "data": {
            "text/plain": [
              "RNNLearner(data=TextClasDataBunch;\n",
              "\n",
              "Train: LabelList (134654 items)\n",
              "x: TextList\n",
              "xxbos haha a black kid was shot by a hispanic and you still find a way to blame whitey your ignorance is astounding,xxbos considering that as francisco xxunk says the fascist international decided not to invest its time and funds in romania as early as the late 1930s they probably did p,xxbos preceding unsigned comment added by xxunk,xxbos i ve nominated this series of articles for dyk recently the created m of xxunk if you have alternative suggestions about the hook or any ideas for a picture i am always open to your ideas,xxbos not everyone some people turn up trying to find out about the sport i just can not see how the table will work if the leading driver scores less points than the runnerup enna\n",
              "y: CategoryList\n",
              "1,0,0,0,0\n",
              "Path: .;\n",
              "\n",
              "Valid: LabelList (33664 items)\n",
              "x: TextList\n",
              "xxbos it says under admissions requirements that men must have one testicle i looked at west points website and could nt find anything confirming this it needs a source,xxbos barnstar the antivandalism barnstar for your tireless work against vandalism and beating me to over 15 consecutive reverts keep up the great work you beat me to about 15 reverts in a row on huggle i had to check that huggle and my internet were working correctly because nothing was being reverted p and i figured you were deserving of this best,xxbos your question i have voluntarily given you my identity and ip address on a popular wp discussion site of which you are a member if you need further information you may contact me there as a reference it was the place in which we were discussing who to invite to the party,xxbos 1 search news about steam valve 2 add to steam article whilst ignoring usefulness of content no stop,xxbos sold its 10 millionth book in fact quoted from a company that posts press releases stated as xxunk reported press release on xxunk found link to it on xxunk business model section based on speculation no basis in facts notes xxunk\n",
              "y: CategoryList\n",
              "0,0,0,0,0\n",
              "Path: .;\n",
              "\n",
              "Test: None, model=SequentialRNN(\n",
              "  (0): MultiBatchEncoder(\n",
              "    (module): AWD_LSTM(\n",
              "      (encoder): Embedding(60000, 400, padding_idx=1)\n",
              "      (encoder_dp): EmbeddingDropout(\n",
              "        (emb): Embedding(60000, 400, padding_idx=1)\n",
              "      )\n",
              "      (rnns): ModuleList(\n",
              "        (0): WeightDropout(\n",
              "          (module): LSTM(400, 1152, batch_first=True)\n",
              "        )\n",
              "        (1): WeightDropout(\n",
              "          (module): LSTM(1152, 1152, batch_first=True)\n",
              "        )\n",
              "        (2): WeightDropout(\n",
              "          (module): LSTM(1152, 400, batch_first=True)\n",
              "        )\n",
              "      )\n",
              "      (input_dp): RNNDropout()\n",
              "      (hidden_dps): ModuleList(\n",
              "        (0): RNNDropout()\n",
              "        (1): RNNDropout()\n",
              "        (2): RNNDropout()\n",
              "      )\n",
              "    )\n",
              "  )\n",
              "  (1): PoolingLinearClassifier(\n",
              "    (layers): Sequential(\n",
              "      (0): BatchNorm1d(1200, eps=1e-05, momentum=0.1, affine=True, track_running_stats=True)\n",
              "      (1): Dropout(p=0.2, inplace=False)\n",
              "      (2): Linear(in_features=1200, out_features=50, bias=True)\n",
              "      (3): ReLU(inplace=True)\n",
              "      (4): BatchNorm1d(50, eps=1e-05, momentum=0.1, affine=True, track_running_stats=True)\n",
              "      (5): Dropout(p=0.1, inplace=False)\n",
              "      (6): Linear(in_features=50, out_features=2, bias=True)\n",
              "    )\n",
              "  )\n",
              "), opt_func=functools.partial(<class 'torch.optim.adam.Adam'>, betas=(0.9, 0.99)), loss_func=FlattenedLoss of CrossEntropyLoss(), metrics=[<function accuracy at 0x7f7f4c97fa60>], true_wd=True, bn_wd=True, wd=0.01, train_bn=True, path=PosixPath('.'), model_dir='models', callback_fns=[functools.partial(<class 'fastai.basic_train.Recorder'>, add_time=True, silent=False)], callbacks=[RNNTrainer\n",
              "learn: RNNLearner(data=TextClasDataBunch;\n",
              "\n",
              "Train: LabelList (134654 items)\n",
              "x: TextList\n",
              "xxbos haha a black kid was shot by a hispanic and you still find a way to blame whitey your ignorance is astounding,xxbos considering that as francisco xxunk says the fascist international decided not to invest its time and funds in romania as early as the late 1930s they probably did p,xxbos preceding unsigned comment added by xxunk,xxbos i ve nominated this series of articles for dyk recently the created m of xxunk if you have alternative suggestions about the hook or any ideas for a picture i am always open to your ideas,xxbos not everyone some people turn up trying to find out about the sport i just can not see how the table will work if the leading driver scores less points than the runnerup enna\n",
              "y: CategoryList\n",
              "1,0,0,0,0\n",
              "Path: .;\n",
              "\n",
              "Valid: LabelList (33664 items)\n",
              "x: TextList\n",
              "xxbos it says under admissions requirements that men must have one testicle i looked at west points website and could nt find anything confirming this it needs a source,xxbos barnstar the antivandalism barnstar for your tireless work against vandalism and beating me to over 15 consecutive reverts keep up the great work you beat me to about 15 reverts in a row on huggle i had to check that huggle and my internet were working correctly because nothing was being reverted p and i figured you were deserving of this best,xxbos your question i have voluntarily given you my identity and ip address on a popular wp discussion site of which you are a member if you need further information you may contact me there as a reference it was the place in which we were discussing who to invite to the party,xxbos 1 search news about steam valve 2 add to steam article whilst ignoring usefulness of content no stop,xxbos sold its 10 millionth book in fact quoted from a company that posts press releases stated as xxunk reported press release on xxunk found link to it on xxunk business model section based on speculation no basis in facts notes xxunk\n",
              "y: CategoryList\n",
              "0,0,0,0,0\n",
              "Path: .;\n",
              "\n",
              "Test: None, model=SequentialRNN(\n",
              "  (0): MultiBatchEncoder(\n",
              "    (module): AWD_LSTM(\n",
              "      (encoder): Embedding(60000, 400, padding_idx=1)\n",
              "      (encoder_dp): EmbeddingDropout(\n",
              "        (emb): Embedding(60000, 400, padding_idx=1)\n",
              "      )\n",
              "      (rnns): ModuleList(\n",
              "        (0): WeightDropout(\n",
              "          (module): LSTM(400, 1152, batch_first=True)\n",
              "        )\n",
              "        (1): WeightDropout(\n",
              "          (module): LSTM(1152, 1152, batch_first=True)\n",
              "        )\n",
              "        (2): WeightDropout(\n",
              "          (module): LSTM(1152, 400, batch_first=True)\n",
              "        )\n",
              "      )\n",
              "      (input_dp): RNNDropout()\n",
              "      (hidden_dps): ModuleList(\n",
              "        (0): RNNDropout()\n",
              "        (1): RNNDropout()\n",
              "        (2): RNNDropout()\n",
              "      )\n",
              "    )\n",
              "  )\n",
              "  (1): PoolingLinearClassifier(\n",
              "    (layers): Sequential(\n",
              "      (0): BatchNorm1d(1200, eps=1e-05, momentum=0.1, affine=True, track_running_stats=True)\n",
              "      (1): Dropout(p=0.2, inplace=False)\n",
              "      (2): Linear(in_features=1200, out_features=50, bias=True)\n",
              "      (3): ReLU(inplace=True)\n",
              "      (4): BatchNorm1d(50, eps=1e-05, momentum=0.1, affine=True, track_running_stats=True)\n",
              "      (5): Dropout(p=0.1, inplace=False)\n",
              "      (6): Linear(in_features=50, out_features=2, bias=True)\n",
              "    )\n",
              "  )\n",
              "), opt_func=functools.partial(<class 'torch.optim.adam.Adam'>, betas=(0.9, 0.99)), loss_func=FlattenedLoss of CrossEntropyLoss(), metrics=[<function accuracy at 0x7f7f4c97fa60>], true_wd=True, bn_wd=True, wd=0.01, train_bn=True, path=PosixPath('.'), model_dir='models', callback_fns=[functools.partial(<class 'fastai.basic_train.Recorder'>, add_time=True, silent=False)], callbacks=[...], layer_groups=[Sequential(\n",
              "  (0): Embedding(60000, 400, padding_idx=1)\n",
              "  (1): EmbeddingDropout(\n",
              "    (emb): Embedding(60000, 400, padding_idx=1)\n",
              "  )\n",
              "), Sequential(\n",
              "  (0): WeightDropout(\n",
              "    (module): LSTM(400, 1152, batch_first=True)\n",
              "  )\n",
              "  (1): RNNDropout()\n",
              "), Sequential(\n",
              "  (0): WeightDropout(\n",
              "    (module): LSTM(1152, 1152, batch_first=True)\n",
              "  )\n",
              "  (1): RNNDropout()\n",
              "), Sequential(\n",
              "  (0): WeightDropout(\n",
              "    (module): LSTM(1152, 400, batch_first=True)\n",
              "  )\n",
              "  (1): RNNDropout()\n",
              "), Sequential(\n",
              "  (0): PoolingLinearClassifier(\n",
              "    (layers): Sequential(\n",
              "      (0): BatchNorm1d(1200, eps=1e-05, momentum=0.1, affine=True, track_running_stats=True)\n",
              "      (1): Dropout(p=0.2, inplace=False)\n",
              "      (2): Linear(in_features=1200, out_features=50, bias=True)\n",
              "      (3): ReLU(inplace=True)\n",
              "      (4): BatchNorm1d(50, eps=1e-05, momentum=0.1, affine=True, track_running_stats=True)\n",
              "      (5): Dropout(p=0.1, inplace=False)\n",
              "      (6): Linear(in_features=50, out_features=2, bias=True)\n",
              "    )\n",
              "  )\n",
              ")], add_time=True, silent=False)\n",
              "alpha: 2.0\n",
              "beta: 1.0], layer_groups=[Sequential(\n",
              "  (0): Embedding(60000, 400, padding_idx=1)\n",
              "  (1): EmbeddingDropout(\n",
              "    (emb): Embedding(60000, 400, padding_idx=1)\n",
              "  )\n",
              "), Sequential(\n",
              "  (0): WeightDropout(\n",
              "    (module): LSTM(400, 1152, batch_first=True)\n",
              "  )\n",
              "  (1): RNNDropout()\n",
              "), Sequential(\n",
              "  (0): WeightDropout(\n",
              "    (module): LSTM(1152, 1152, batch_first=True)\n",
              "  )\n",
              "  (1): RNNDropout()\n",
              "), Sequential(\n",
              "  (0): WeightDropout(\n",
              "    (module): LSTM(1152, 400, batch_first=True)\n",
              "  )\n",
              "  (1): RNNDropout()\n",
              "), Sequential(\n",
              "  (0): PoolingLinearClassifier(\n",
              "    (layers): Sequential(\n",
              "      (0): BatchNorm1d(1200, eps=1e-05, momentum=0.1, affine=True, track_running_stats=True)\n",
              "      (1): Dropout(p=0.2, inplace=False)\n",
              "      (2): Linear(in_features=1200, out_features=50, bias=True)\n",
              "      (3): ReLU(inplace=True)\n",
              "      (4): BatchNorm1d(50, eps=1e-05, momentum=0.1, affine=True, track_running_stats=True)\n",
              "      (5): Dropout(p=0.1, inplace=False)\n",
              "      (6): Linear(in_features=50, out_features=2, bias=True)\n",
              "    )\n",
              "  )\n",
              ")], add_time=True, silent=False)"
            ]
          },
          "metadata": {
            "tags": []
          },
          "execution_count": 64
        }
      ]
    },
    {
      "cell_type": "code",
      "metadata": {
        "id": "RAD1CiW9PN9R",
        "colab_type": "code",
        "outputId": "a1333cf8-2ca0-4c68-fe24-14630d850d97",
        "colab": {
          "base_uri": "https://localhost:8080/",
          "height": 112
        }
      },
      "source": [
        "# Find the best learning rate for the classifier\n",
        "learn_clas.lr_find()"
      ],
      "execution_count": 0,
      "outputs": [
        {
          "output_type": "display_data",
          "data": {
            "text/html": [
              "\n",
              "    <div>\n",
              "        <style>\n",
              "            /* Turns off some styling */\n",
              "            progress {\n",
              "                /* gets rid of default border in Firefox and Opera. */\n",
              "                border: none;\n",
              "                /* Needs to be in here for Safari polyfill so background images work as expected. */\n",
              "                background-size: auto;\n",
              "            }\n",
              "            .progress-bar-interrupted, .progress-bar-interrupted::-webkit-progress-bar {\n",
              "                background: #F44336;\n",
              "            }\n",
              "        </style>\n",
              "      <progress value='0' class='' max='1' style='width:300px; height:20px; vertical-align: middle;'></progress>\n",
              "      0.00% [0/1 00:00<00:00]\n",
              "    </div>\n",
              "    \n",
              "<table border=\"1\" class=\"dataframe\">\n",
              "  <thead>\n",
              "    <tr style=\"text-align: left;\">\n",
              "      <th>epoch</th>\n",
              "      <th>train_loss</th>\n",
              "      <th>valid_loss</th>\n",
              "      <th>accuracy</th>\n",
              "      <th>time</th>\n",
              "    </tr>\n",
              "  </thead>\n",
              "  <tbody>\n",
              "  </tbody>\n",
              "</table><p>\n",
              "\n",
              "    <div>\n",
              "        <style>\n",
              "            /* Turns off some styling */\n",
              "            progress {\n",
              "                /* gets rid of default border in Firefox and Opera. */\n",
              "                border: none;\n",
              "                /* Needs to be in here for Safari polyfill so background images work as expected. */\n",
              "                background-size: auto;\n",
              "            }\n",
              "            .progress-bar-interrupted, .progress-bar-interrupted::-webkit-progress-bar {\n",
              "                background: #F44336;\n",
              "            }\n",
              "        </style>\n",
              "      <progress value='94' class='' max='4207' style='width:300px; height:20px; vertical-align: middle;'></progress>\n",
              "      2.23% [94/4207 00:14<10:33 1.7280]\n",
              "    </div>\n",
              "    "
            ],
            "text/plain": [
              "<IPython.core.display.HTML object>"
            ]
          },
          "metadata": {
            "tags": []
          }
        },
        {
          "output_type": "stream",
          "text": [
            "LR Finder is complete, type {learner_name}.recorder.plot() to see the graph.\n"
          ],
          "name": "stdout"
        }
      ]
    },
    {
      "cell_type": "code",
      "metadata": {
        "id": "dYuplJV-PRCp",
        "colab_type": "code",
        "outputId": "d1c008fd-deb3-4fd0-8dc7-624bab79e130",
        "colab": {
          "base_uri": "https://localhost:8080/",
          "height": 317
        }
      },
      "source": [
        "learn_clas.recorder.plot(suggestion=True)"
      ],
      "execution_count": 0,
      "outputs": [
        {
          "output_type": "stream",
          "text": [
            "Min numerical gradient: 1.00E-01\n",
            "Min loss divided by 10: 3.63E-02\n"
          ],
          "name": "stdout"
        },
        {
          "output_type": "display_data",
          "data": {
            "image/png": "[encoded data removed]",
            "text/plain": [
              "<Figure size 432x288 with 1 Axes>"
            ]
          },
          "metadata": {
            "tags": [],
            "needs_background": "light"
          }
        }
      ]
    },
    {
      "cell_type": "code",
      "metadata": {
        "id": "SlZfLLO8PSVA",
        "colab_type": "code",
        "outputId": "0f9ac675-d05c-4ac9-a961-869a9cda5830",
        "colab": {
          "base_uri": "https://localhost:8080/",
          "height": 35
        }
      },
      "source": [
        "# Retrieve the best learning rate for classifier\n",
        "best_clf_lr = learn_clas.recorder.min_grad_lr\n",
        "best_clf_lr"
      ],
      "execution_count": 0,
      "outputs": [
        {
          "output_type": "execute_result",
          "data": {
            "text/plain": [
              "0.09999999999999999"
            ]
          },
          "metadata": {
            "tags": []
          },
          "execution_count": 67
        }
      ]
    },
    {
      "cell_type": "code",
      "metadata": {
        "id": "7AGMt7gCPT-v",
        "colab_type": "code",
        "outputId": "5c0f389b-4f42-40e7-f37e-235235a3fc7a",
        "colab": {
          "base_uri": "https://localhost:8080/",
          "height": 79
        }
      },
      "source": [
        "# Fitting Classifier Object\n",
        "learn_clas.fit_one_cycle(1, best_clf_lr, moms=(0.8,0.7), wd=0.1)"
      ],
      "execution_count": 0,
      "outputs": [
        {
          "output_type": "display_data",
          "data": {
            "text/html": [
              "<table border=\"1\" class=\"dataframe\">\n",
              "  <thead>\n",
              "    <tr style=\"text-align: left;\">\n",
              "      <th>epoch</th>\n",
              "      <th>train_loss</th>\n",
              "      <th>valid_loss</th>\n",
              "      <th>accuracy</th>\n",
              "      <th>time</th>\n",
              "    </tr>\n",
              "  </thead>\n",
              "  <tbody>\n",
              "    <tr>\n",
              "      <td>0</td>\n",
              "      <td>0.189661</td>\n",
              "      <td>0.156645</td>\n",
              "      <td>0.937619</td>\n",
              "      <td>07:05</td>\n",
              "    </tr>\n",
              "  </tbody>\n",
              "</table>"
            ],
            "text/plain": [
              "<IPython.core.display.HTML object>"
            ]
          },
          "metadata": {
            "tags": []
          }
        }
      ]
    },
    {
      "cell_type": "code",
      "metadata": {
        "id": "QXwQx44TPW7A",
        "colab_type": "code",
        "outputId": "c2aaf0d9-52dc-4afb-b4f1-aeb26a229641",
        "colab": {
          "base_uri": "https://localhost:8080/",
          "height": 79
        }
      },
      "source": [
        "# Fitting Classifier Object after freezing all but last 2 layers\n",
        "# Reduce the learning rate by half, as we want the deeper layers to learn slower\n",
        "learn_clas.freeze_to(-2)\n",
        "best_clf_lr /= 2\n",
        "learn_clas.fit_one_cycle(1, slice(best_clf_lr/(2.6**4),best_clf_lr), moms=(0.8,0.7), wd=0.1)"
      ],
      "execution_count": 0,
      "outputs": [
        {
          "output_type": "display_data",
          "data": {
            "text/html": [
              "<table border=\"1\" class=\"dataframe\">\n",
              "  <thead>\n",
              "    <tr style=\"text-align: left;\">\n",
              "      <th>epoch</th>\n",
              "      <th>train_loss</th>\n",
              "      <th>valid_loss</th>\n",
              "      <th>accuracy</th>\n",
              "      <th>time</th>\n",
              "    </tr>\n",
              "  </thead>\n",
              "  <tbody>\n",
              "    <tr>\n",
              "      <td>0</td>\n",
              "      <td>0.131246</td>\n",
              "      <td>0.124647</td>\n",
              "      <td>0.952145</td>\n",
              "      <td>07:10</td>\n",
              "    </tr>\n",
              "  </tbody>\n",
              "</table>"
            ],
            "text/plain": [
              "<IPython.core.display.HTML object>"
            ]
          },
          "metadata": {
            "tags": []
          }
        }
      ]
    },
    {
      "cell_type": "code",
      "metadata": {
        "id": "lLgudmmQPlVo",
        "colab_type": "code",
        "outputId": "19b4abb7-7c0d-4de4-b4b4-f00b003fccc0",
        "colab": {
          "base_uri": "https://localhost:8080/",
          "height": 79
        }
      },
      "source": [
        "# Fitting Classifier Object after freezing all but last 3 layers\n",
        "# Reduce the learning rate by half, as we want the deeper layers to learn slower\n",
        "learn_clas.freeze_to(-3)\n",
        "best_clf_lr /= 2\n",
        "learn_clas.fit_one_cycle(1, slice(best_clf_lr/(2.6**4),best_clf_lr), moms=(0.8,0.7), wd=0.1)"
      ],
      "execution_count": 0,
      "outputs": [
        {
          "output_type": "display_data",
          "data": {
            "text/html": [
              "<table border=\"1\" class=\"dataframe\">\n",
              "  <thead>\n",
              "    <tr style=\"text-align: left;\">\n",
              "      <th>epoch</th>\n",
              "      <th>train_loss</th>\n",
              "      <th>valid_loss</th>\n",
              "      <th>accuracy</th>\n",
              "      <th>time</th>\n",
              "    </tr>\n",
              "  </thead>\n",
              "  <tbody>\n",
              "    <tr>\n",
              "      <td>0</td>\n",
              "      <td>0.131843</td>\n",
              "      <td>0.120679</td>\n",
              "      <td>0.952471</td>\n",
              "      <td>06:44</td>\n",
              "    </tr>\n",
              "  </tbody>\n",
              "</table>"
            ],
            "text/plain": [
              "<IPython.core.display.HTML object>"
            ]
          },
          "metadata": {
            "tags": []
          }
        }
      ]
    },
    {
      "cell_type": "code",
      "metadata": {
        "id": "mPzZlQsmPqlc",
        "colab_type": "code",
        "outputId": "a2333f8a-e220-4afd-eb77-45e407eefc7f",
        "colab": {
          "base_uri": "https://localhost:8080/",
          "height": 79
        }
      },
      "source": [
        "# Fitting Classifier Object - discriminative learning\n",
        "# Reduce the learning rate by 5 times, as we want the classifier to learn slower\n",
        "learn_clas.unfreeze()\n",
        "best_clf_lr /= 5\n",
        "learn_clas.fit_one_cycle(1, slice(best_clf_lr/(2.6**4),best_clf_lr), moms=(0.8,0.7), wd=0.1)"
      ],
      "execution_count": 0,
      "outputs": [
        {
          "output_type": "display_data",
          "data": {
            "text/html": [
              "<table border=\"1\" class=\"dataframe\">\n",
              "  <thead>\n",
              "    <tr style=\"text-align: left;\">\n",
              "      <th>epoch</th>\n",
              "      <th>train_loss</th>\n",
              "      <th>valid_loss</th>\n",
              "      <th>accuracy</th>\n",
              "      <th>time</th>\n",
              "    </tr>\n",
              "  </thead>\n",
              "  <tbody>\n",
              "    <tr>\n",
              "      <td>0</td>\n",
              "      <td>0.118166</td>\n",
              "      <td>0.114725</td>\n",
              "      <td>0.955472</td>\n",
              "      <td>07:37</td>\n",
              "    </tr>\n",
              "  </tbody>\n",
              "</table>"
            ],
            "text/plain": [
              "<IPython.core.display.HTML object>"
            ]
          },
          "metadata": {
            "tags": []
          }
        }
      ]
    },
    {
      "cell_type": "code",
      "metadata": {
        "id": "LwnqPCEUP7Ss",
        "colab_type": "code",
        "colab": {}
      },
      "source": [
        "learn_clas.save('fwd_clas')"
      ],
      "execution_count": 0,
      "outputs": []
    },
    {
      "cell_type": "markdown",
      "metadata": {
        "id": "dvOb1OPPI5V0",
        "colab_type": "text"
      },
      "source": [
        "##Analyse the Results"
      ]
    },
    {
      "cell_type": "code",
      "metadata": {
        "id": "Nko8QbFyRjtX",
        "colab_type": "code",
        "outputId": "bf28494c-4db4-421f-ed45-8fba1aed428f",
        "colab": {
          "base_uri": "https://localhost:8080/",
          "height": 311
        }
      },
      "source": [
        "preds,y,losses = learn_clas.get_preds(with_loss=True)\n",
        "interp = ClassificationInterpretation(learn_clas, preds, y, losses)\n",
        "interp.plot_confusion_matrix()"
      ],
      "execution_count": 0,
      "outputs": [
        {
          "output_type": "display_data",
          "data": {
            "text/html": [
              ""
            ],
            "text/plain": [
              "<IPython.core.display.HTML object>"
            ]
          },
          "metadata": {
            "tags": []
          }
        },
        {
          "output_type": "display_data",
          "data": {
            "image/png": "[encoded data removed]",
            "text/plain": [
              "<Figure size 432x288 with 1 Axes>"
            ]
          },
          "metadata": {
            "tags": [],
            "needs_background": "light"
          }
        }
      ]
    },
    {
      "cell_type": "code",
      "metadata": {
        "id": "niHTbSbT7Hvk",
        "colab_type": "code",
        "outputId": "75b29fd3-d597-4dbc-ffce-f48d4d13ef38",
        "colab": {
          "base_uri": "https://localhost:8080/",
          "height": 35
        }
      },
      "source": [
        "learn_clas.predict(\"i hope you have a good day!\")"
      ],
      "execution_count": 0,
      "outputs": [
        {
          "output_type": "execute_result",
          "data": {
            "text/plain": [
              "(Category 0, tensor(0), tensor([0.9828, 0.0172]))"
            ]
          },
          "metadata": {
            "tags": []
          },
          "execution_count": 126
        }
      ]
    },
    {
      "cell_type": "code",
      "metadata": {
        "id": "9UWZfHIx7KRB",
        "colab_type": "code",
        "outputId": "c46ca4cd-2318-40db-9f4c-d2bf2ba2db56",
        "colab": {
          "base_uri": "https://localhost:8080/",
          "height": 35
        }
      },
      "source": [
        "learn_clas.predict(\"kanasai\")"
      ],
      "execution_count": 0,
      "outputs": [
        {
          "output_type": "execute_result",
          "data": {
            "text/plain": [
              "(Category 0, tensor(0), tensor([0.9716, 0.0284]))"
            ]
          },
          "metadata": {
            "tags": []
          },
          "execution_count": 127
        }
      ]
    }
  ]
}